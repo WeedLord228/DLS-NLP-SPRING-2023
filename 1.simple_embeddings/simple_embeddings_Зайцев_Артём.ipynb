{
 "cells": [
  {
   "cell_type": "markdown",
   "metadata": {
    "id": "Ot3c4fjZwC4T"
   },
   "source": [
    "<img src=\"https://s8.hostingkartinok.com/uploads/images/2018/08/308b49fcfbc619d629fe4604bceb67ac.jpg\" width=500, height=450>\n",
    "<h3 style=\"text-align: center;\"><b>Физтех-Школа Прикладной математики и информатики (ФПМИ) МФТИ</b></h3>"
   ]
  },
  {
   "cell_type": "markdown",
   "metadata": {
    "id": "P2JdzEXmwRU5"
   },
   "source": [
    "---"
   ]
  },
  {
   "cell_type": "markdown",
   "metadata": {
    "id": "Fc8iHXIVwDwj"
   },
   "source": [
    "***Some parts of the notebook are almost the copy of [ mmta-team course](https://github.com/mmta-team/mmta_fall_2020). Special thanks to mmta-team for making them publicly available. [Original notebook](https://github.com/mmta-team/mmta_fall_2020/blob/master/tasks/01_word_embeddings/task_word_embeddings.ipynb).***"
   ]
  },
  {
   "cell_type": "markdown",
   "metadata": {
    "id": "7D0wm5jt6j0U"
   },
   "source": [
    "<b> Прочитайте семинар, пожалуйста, для успешного выполнения домашнего задания. В конце ноутка напишите свой вывод. Работа без вывода оценивается ниже."
   ]
  },
  {
   "cell_type": "markdown",
   "metadata": {
    "id": "BIWqBuEa6j0b"
   },
   "source": [
    "## Задача поиска схожих по смыслу предложений"
   ]
  },
  {
   "cell_type": "markdown",
   "metadata": {
    "id": "NUkwMPLA6j0g"
   },
   "source": [
    "Мы будем ранжировать вопросы [StackOverflow](https://stackoverflow.com) на основе семантического векторного представления "
   ]
  },
  {
   "cell_type": "markdown",
   "metadata": {
    "id": "dNRXIEfu5a3Q"
   },
   "source": [
    "До этого в курсе не было речи про задачу ранжировния, поэтому введем математическую формулировку"
   ]
  },
  {
   "cell_type": "markdown",
   "metadata": {
    "id": "uS9FwWNd5a3S"
   },
   "source": [
    "## Задача ранжирования(Learning to Rank)"
   ]
  },
  {
   "cell_type": "markdown",
   "metadata": {
    "id": "wdwY9-f75a3T"
   },
   "source": [
    "* $X$ - множество объектов\n",
    "* $X^l = \\{x_1, x_2, ..., x_l\\}$ - обучающая выборка\n",
    "<br>На обучающей выборке задан порядок между некоторыми элементами, то есть нам известно, что некий объект выборки более релевантный для нас, чем другой:\n",
    "* $i \\prec j$ - порядок пары индексов объектов на выборке $X^l$ c индексами $i$ и $j$\n",
    "### Задача:\n",
    "построить ранжирующую функцию $a$ : $X \\rightarrow R$ такую, что\n",
    "$$i \\prec j \\Rightarrow a(x_i) < a(x_j)$$"
   ]
  },
  {
   "cell_type": "markdown",
   "metadata": {
    "id": "WG2IGBsh5a3U"
   },
   "source": [
    "<img src=\"https://d25skit2l41vkl.cloudfront.net/wp-content/uploads/2016/12/Featured-Image.jpg\" width=500, height=450>"
   ]
  },
  {
   "cell_type": "markdown",
   "metadata": {
    "id": "MQk_rolFwT_h"
   },
   "source": [
    "### Embeddings"
   ]
  },
  {
   "cell_type": "markdown",
   "metadata": {
    "id": "xUe1PGXn6j0l"
   },
   "source": [
    "Будем использовать предобученные векторные представления слов на постах Stack Overflow.<br>\n",
    "[A word2vec model trained on Stack Overflow posts](https://github.com/vefstathiou/SO_word2vec)"
   ]
  },
  {
   "cell_type": "code",
   "execution_count": null,
   "metadata": {},
   "outputs": [],
   "source": [
    "!pip uninstall torch"
   ]
  },
  {
   "cell_type": "code",
   "execution_count": null,
   "metadata": {},
   "outputs": [],
   "source": [
    "!pip install torch==2.0.0+cu117 "
   ]
  },
  {
   "cell_type": "code",
   "execution_count": 4,
   "metadata": {},
   "outputs": [],
   "source": [
    "# !pip install gensim nltk spacy"
   ]
  },
  {
   "cell_type": "code",
   "execution_count": 131,
   "metadata": {
    "colab": {
     "base_uri": "https://localhost:8080/"
    },
    "id": "mYkI54Y-rk7a",
    "outputId": "103ca1b9-9c86-48a3-9daa-9069bb25e01e"
   },
   "outputs": [],
   "source": [
    "# https://zenodo.org/record/1199620/files/SO_vectors_200.bin?download=1\n",
    "from gensim.models.keyedvectors import KeyedVectors\n",
    "from numpy.linalg import norm\n",
    "import numpy as np\n",
    "import re\n",
    "import nltk\n",
    "from nltk import WordPunctTokenizer\n",
    "from nltk import SpaceTokenizer\n",
    "import pandas as pd\n",
    "from functools import cmp_to_key\n",
    "from tqdm.notebook import tqdm\n",
    "from gensim.models import Word2Vec\n",
    "from sklearn.metrics.pairwise import cosine_similarity\n",
    "from nltk.corpus import stopwords\n",
    "from nltk.stem import PorterStemmer, SnowballStemmer\n",
    "import re\n",
    "import string\n"
   ]
  },
  {
   "cell_type": "code",
   "execution_count": 6,
   "metadata": {},
   "outputs": [],
   "source": [
    "# import ssl\n",
    "\n",
    "# try:\n",
    "#     _create_unverified_https_context = ssl._create_unverified_context\n",
    "# except AttributeError:\n",
    "#     pass\n",
    "# else:\n",
    "#     ssl._create_default_https_context = _create_unverified_https_context\n",
    "\n",
    "# nltk.download('stopwords')"
   ]
  },
  {
   "cell_type": "code",
   "execution_count": 7,
   "metadata": {
    "id": "O8YJTOYv6j0s"
   },
   "outputs": [],
   "source": [
    "wv_embeddings = KeyedVectors.load_word2vec_format(\"SO_vectors_200.bin\", binary=True)"
   ]
  },
  {
   "cell_type": "code",
   "execution_count": 8,
   "metadata": {},
   "outputs": [
    {
     "data": {
      "text/plain": [
       "['use',\n",
       " 'code',\n",
       " 'using',\n",
       " 'like',\n",
       " 'will',\n",
       " 'want',\n",
       " 'need',\n",
       " 'get',\n",
       " 'file',\n",
       " 'one',\n",
       " 'just',\n",
       " 'data',\n",
       " 'way',\n",
       " '1',\n",
       " 'also',\n",
       " 'function',\n",
       " 'problem',\n",
       " 'error',\n",
       " '-',\n",
       " 'example',\n",
       " '2',\n",
       " 'class',\n",
       " 'work',\n",
       " 'value',\n",
       " 'method',\n",
       " 'first',\n",
       " 'set',\n",
       " 'see',\n",
       " 'following',\n",
       " '0',\n",
       " 'user',\n",
       " 'make',\n",
       " 'new',\n",
       " 'add',\n",
       " 'know',\n",
       " 'try',\n",
       " 'time',\n",
       " 'something',\n",
       " 'http',\n",
       " 'trying',\n",
       " 'create',\n",
       " 'object',\n",
       " 'now',\n",
       " 'page',\n",
       " 'server',\n",
       " 'string',\n",
       " 'help',\n",
       " 'app',\n",
       " 'list',\n",
       " 'table',\n",
       " 'application',\n",
       " 'run',\n",
       " 'two',\n",
       " 'call',\n",
       " 'change',\n",
       " 'works',\n",
       " 'used',\n",
       " 'type',\n",
       " '3',\n",
       " 'array',\n",
       " 'find',\n",
       " 'name',\n",
       " 'html',\n",
       " 'tried',\n",
       " 'case',\n",
       " 'gt',\n",
       " 'lt',\n",
       " 'line',\n",
       " 'instead',\n",
       " 'different',\n",
       " 'question',\n",
       " 'thanks',\n",
       " 'however',\n",
       " 'working',\n",
       " 'java',\n",
       " 'files',\n",
       " 'view',\n",
       " 'solution',\n",
       " 'php',\n",
       " 'another',\n",
       " 'check',\n",
       " 'project',\n",
       " 'values',\n",
       " 'database',\n",
       " 'think',\n",
       " 'sure',\n",
       " 'number',\n",
       " 'text',\n",
       " 'image',\n",
       " 'may',\n",
       " 'query',\n",
       " 'possible',\n",
       " 'without',\n",
       " 'id',\n",
       " 'able',\n",
       " 'since',\n",
       " 'look',\n",
       " 'version',\n",
       " 'variable',\n",
       " 'found',\n",
       " 'issue',\n",
       " '4',\n",
       " 'please',\n",
       " 'even',\n",
       " 'form',\n",
       " 'output',\n",
       " 'right',\n",
       " 'return',\n",
       " 'test',\n",
       " 'access',\n",
       " 'read',\n",
       " 'result',\n",
       " 'button',\n",
       " 'update',\n",
       " 'still',\n",
       " '#xd',\n",
       " 'simple',\n",
       " 'answer',\n",
       " 'script',\n",
       " 'edit',\n",
       " 'might',\n",
       " '5',\n",
       " 'web',\n",
       " 'write',\n",
       " 'well',\n",
       " 'called',\n",
       " 'element',\n",
       " 'seems',\n",
       " 'getting',\n",
       " 'inside',\n",
       " 'system',\n",
       " 'really',\n",
       " 'second',\n",
       " 'https',\n",
       " 'fine',\n",
       " 'every',\n",
       " 'xml',\n",
       " 'running',\n",
       " 'go',\n",
       " 'created',\n",
       " 'c',\n",
       " 'input',\n",
       " 'api',\n",
       " 'put',\n",
       " 'android',\n",
       " 'wrong',\n",
       " 'command',\n",
       " 'order',\n",
       " 'default',\n",
       " 'column',\n",
       " 'js',\n",
       " 'request',\n",
       " 'good',\n",
       " 'click',\n",
       " 'event',\n",
       " 'url',\n",
       " 'key',\n",
       " 'note',\n",
       " 'start',\n",
       " 'show',\n",
       " 'link',\n",
       " 'x',\n",
       " 'javascript',\n",
       " 'loop',\n",
       " 'program',\n",
       " 'property',\n",
       " 'many',\n",
       " 'select',\n",
       " 'already',\n",
       " 'better',\n",
       " 'much',\n",
       " 'part',\n",
       " 'looks',\n",
       " 'message',\n",
       " 'sql',\n",
       " 'build',\n",
       " 'point',\n",
       " 'end',\n",
       " 'service',\n",
       " 'jquery',\n",
       " 'back',\n",
       " 'model',\n",
       " 'amp',\n",
       " 'information',\n",
       " 'always',\n",
       " 'correct',\n",
       " 'actually',\n",
       " 'windows',\n",
       " 'instance',\n",
       " 'done',\n",
       " 'field',\n",
       " 'take',\n",
       " 'source',\n",
       " 'main',\n",
       " 'post',\n",
       " 'client',\n",
       " 'anyone',\n",
       " 'process',\n",
       " 'library',\n",
       " 'etc',\n",
       " 'multiple',\n",
       " 'must',\n",
       " 'looking',\n",
       " 'got',\n",
       " 'added',\n",
       " 'content',\n",
       " 'python',\n",
       " 'css',\n",
       " 'based',\n",
       " 'open',\n",
       " 'current',\n",
       " 'net',\n",
       " 'controller',\n",
       " 'display',\n",
       " 'json',\n",
       " 'reference',\n",
       " 'b',\n",
       " 'give',\n",
       " 'objects',\n",
       " 'memory',\n",
       " 'size',\n",
       " 'returns',\n",
       " 'single',\n",
       " 'google',\n",
       " 'probably',\n",
       " 'index',\n",
       " 'best',\n",
       " 'either',\n",
       " 'path',\n",
       " 'custom',\n",
       " 'say',\n",
       " 'row',\n",
       " 'within',\n",
       " 'idea',\n",
       " 'option',\n",
       " 'load',\n",
       " 'pass',\n",
       " 'elements',\n",
       " 'thing',\n",
       " '/',\n",
       " 'remove',\n",
       " 'date',\n",
       " 'last',\n",
       " 'folder',\n",
       " 'thread',\n",
       " 'methods',\n",
       " 'going',\n",
       " 'specific',\n",
       " 'understand',\n",
       " 'things',\n",
       " 'store',\n",
       " 'results',\n",
       " 'simply',\n",
       " '10',\n",
       " 'via',\n",
       " 'search',\n",
       " 'directory',\n",
       " 'functions',\n",
       " 'bit',\n",
       " 'anything',\n",
       " 'null',\n",
       " 'next',\n",
       " 'similar',\n",
       " 'changes',\n",
       " 'browser',\n",
       " 'everything',\n",
       " 'true',\n",
       " 'contains',\n",
       " 'send',\n",
       " 'control',\n",
       " 'exception',\n",
       " 'format',\n",
       " 'given',\n",
       " 'though',\n",
       " 'users',\n",
       " 'means',\n",
       " 'parameter',\n",
       " 'uses',\n",
       " 'window',\n",
       " '6',\n",
       " '7',\n",
       " 'item',\n",
       " 'around',\n",
       " 'adding',\n",
       " 'reason',\n",
       " 'keep',\n",
       " 'site',\n",
       " 'lot',\n",
       " 'currently',\n",
       " '+',\n",
       " 'creating',\n",
       " 'classes',\n",
       " 'hope',\n",
       " 'documentation',\n",
       " 'div',\n",
       " 'approach',\n",
       " 'variables',\n",
       " '//www',\n",
       " 'implement',\n",
       " 'save',\n",
       " 'fix',\n",
       " 'available',\n",
       " 'far',\n",
       " 'someone',\n",
       " 'log',\n",
       " 'com',\n",
       " 'support',\n",
       " 'statement',\n",
       " 'maybe',\n",
       " 'rows',\n",
       " 'long',\n",
       " 'properties',\n",
       " 'made',\n",
       " 'needs',\n",
       " '8',\n",
       " 'copy',\n",
       " 'nothing',\n",
       " 'setting',\n",
       " 'install',\n",
       " 'local',\n",
       " 'seem',\n",
       " 'else',\n",
       " 'module',\n",
       " 'map',\n",
       " 'screen',\n",
       " 'defined',\n",
       " 'images',\n",
       " 'node',\n",
       " 'correctly',\n",
       " 'response',\n",
       " 'rather',\n",
       " 'tag',\n",
       " 'columns',\n",
       " 'items',\n",
       " 'directly',\n",
       " 'lines',\n",
       " 'side',\n",
       " 'connection',\n",
       " 'gets',\n",
       " 'int',\n",
       " 'fields',\n",
       " 'errors',\n",
       " 'place',\n",
       " 'include',\n",
       " 'document',\n",
       " 'n',\n",
       " 'match',\n",
       " 'top',\n",
       " 'advance',\n",
       " 'never',\n",
       " 'template',\n",
       " 'missing',\n",
       " 'attribute',\n",
       " 'changed',\n",
       " 'action',\n",
       " 'calling',\n",
       " 'handle',\n",
       " 'state',\n",
       " 'mysql',\n",
       " 'package',\n",
       " 'address',\n",
       " 'implementation',\n",
       " 'empty',\n",
       " 'convert',\n",
       " 'structure',\n",
       " 'solve',\n",
       " 'left',\n",
       " 'background',\n",
       " 'basically',\n",
       " 'tell',\n",
       " 'replace',\n",
       " 'block',\n",
       " 'shows',\n",
       " 'times',\n",
       " 'header',\n",
       " 'appreciated',\n",
       " 'interface',\n",
       " 'options',\n",
       " 'console',\n",
       " 'original',\n",
       " 'parameters',\n",
       " 'tables',\n",
       " 'types',\n",
       " 'stored',\n",
       " 'website',\n",
       " 'thank',\n",
       " 'activity',\n",
       " 'calls',\n",
       " 'parent',\n",
       " 'makes',\n",
       " 'delete',\n",
       " 'exactly',\n",
       " 'gives',\n",
       " 'allow',\n",
       " 'character',\n",
       " 'print',\n",
       " 'static',\n",
       " 'names',\n",
       " 'figure',\n",
       " 'location',\n",
       " 'ajax',\n",
       " 'device',\n",
       " 'configuration',\n",
       " 'whether',\n",
       " 'plugin',\n",
       " 'easy',\n",
       " 'c#',\n",
       " 'provide',\n",
       " 'numbers',\n",
       " 'standard',\n",
       " 'db',\n",
       " 'context',\n",
       " 'installed',\n",
       " 'group',\n",
       " 'task',\n",
       " 'insert',\n",
       " 'sample',\n",
       " 'execute',\n",
       " 'box',\n",
       " 'position',\n",
       " 'framework',\n",
       " 'little',\n",
       " 'full',\n",
       " 'sort',\n",
       " 'separate',\n",
       " 'session',\n",
       " 'characters',\n",
       " 'yes',\n",
       " 'making',\n",
       " 'config',\n",
       " 'define',\n",
       " 'false',\n",
       " 'whole',\n",
       " 'problems',\n",
       " 'strings',\n",
       " 'needed',\n",
       " 'syntax',\n",
       " 'compiler',\n",
       " 'achieve',\n",
       " 'kind',\n",
       " 'c++',\n",
       " 'writing',\n",
       " 'space',\n",
       " 'takes',\n",
       " 'several',\n",
       " 'mean',\n",
       " 'move',\n",
       " 'worked',\n",
       " 'per',\n",
       " 'generate',\n",
       " 'automatically',\n",
       " 'pretty',\n",
       " 'suggest',\n",
       " 'required',\n",
       " 'layout',\n",
       " 'studio',\n",
       " 'level',\n",
       " 'language',\n",
       " 'written',\n",
       " 'ok',\n",
       " 'actual',\n",
       " 'info',\n",
       " 'course',\n",
       " 'login',\n",
       " 'least',\n",
       " 'pointer',\n",
       " 'component',\n",
       " 'machine',\n",
       " 'count',\n",
       " 'expected',\n",
       " 'quite',\n",
       " 'constructor',\n",
       " 'step',\n",
       " 'width',\n",
       " 'avoid',\n",
       " 'expression',\n",
       " 'helps',\n",
       " 'filter',\n",
       " 'argument',\n",
       " 'performance',\n",
       " 'settings',\n",
       " 'menu',\n",
       " 'selected',\n",
       " 'old',\n",
       " 'difference',\n",
       " 'details',\n",
       " 'follows',\n",
       " 'happens',\n",
       " 'ui',\n",
       " 'particular',\n",
       " 'properly',\n",
       " 'visual',\n",
       " 'git',\n",
       " 'collection',\n",
       " 'updated',\n",
       " 'stack',\n",
       " 'microsoft',\n",
       " 'small',\n",
       " 'reading',\n",
       " 'email',\n",
       " '--',\n",
       " 'color',\n",
       " 'three',\n",
       " 'enough',\n",
       " 'bar',\n",
       " 'changing',\n",
       " 'asp',\n",
       " 'child',\n",
       " 'specify',\n",
       " 'y',\n",
       " 'cell',\n",
       " 'height',\n",
       " 'returned',\n",
       " 'style',\n",
       " 'says',\n",
       " 'generated',\n",
       " 'section',\n",
       " 'issues',\n",
       " 'setup',\n",
       " 'related',\n",
       " 'compile',\n",
       " 'less',\n",
       " 'ideas',\n",
       " '9',\n",
       " 'environment',\n",
       " 'clear',\n",
       " '100',\n",
       " 'mode',\n",
       " 'consider',\n",
       " 'pattern',\n",
       " 'guess',\n",
       " 'root',\n",
       " 'valid',\n",
       " 'length',\n",
       " 'contain',\n",
       " 'record',\n",
       " 'base',\n",
       " 'container',\n",
       " 'yet',\n",
       " 'certain',\n",
       " 'close',\n",
       " 'manually',\n",
       " 'fixed',\n",
       " 'loaded',\n",
       " 'apache',\n",
       " 'logic',\n",
       " 'download',\n",
       " 'comment',\n",
       " 'eclipse',\n",
       " 'connect',\n",
       " 'existing',\n",
       " 'scope',\n",
       " 'behavior',\n",
       " 'password',\n",
       " 'shown',\n",
       " 'events',\n",
       " 'org',\n",
       " 'apply',\n",
       " 'points',\n",
       " 'import',\n",
       " 'ways',\n",
       " 'runs',\n",
       " 'rest',\n",
       " 'tab',\n",
       " 'chrome',\n",
       " 'r',\n",
       " 'p',\n",
       " 'otherwise',\n",
       " 'large',\n",
       " 'pages',\n",
       " 'cases',\n",
       " 'testing',\n",
       " 'later',\n",
       " 'basic',\n",
       " 'allows',\n",
       " 'integer',\n",
       " 'account',\n",
       " 'previous',\n",
       " 'ios',\n",
       " 'target',\n",
       " 'parse',\n",
       " 'entity',\n",
       " 'started',\n",
       " 'assuming',\n",
       " 'common',\n",
       " 'passed',\n",
       " 'come',\n",
       " 'word',\n",
       " 'modify',\n",
       " 'said',\n",
       " 'cause',\n",
       " 'domain',\n",
       " 'jar',\n",
       " 'records',\n",
       " 'appears',\n",
       " 'comes',\n",
       " 'according',\n",
       " 'design',\n",
       " 'debug',\n",
       " 'people',\n",
       " 'great',\n",
       " 'questions',\n",
       " 'usually',\n",
       " 'thought',\n",
       " 'handler',\n",
       " 'named',\n",
       " 'real',\n",
       " 'public',\n",
       " 'tests',\n",
       " 'range',\n",
       " 'requests',\n",
       " 'extension',\n",
       " 'complete',\n",
       " 'exist',\n",
       " 'wanted',\n",
       " 'messages',\n",
       " 'fact',\n",
       " 'regex',\n",
       " 'join',\n",
       " 'examples',\n",
       " 'general',\n",
       " 'whatever',\n",
       " 'easily',\n",
       " 'checked',\n",
       " 'ie',\n",
       " 'video',\n",
       " 'goes',\n",
       " 'useful',\n",
       " 'global',\n",
       " 'enter',\n",
       " 'depending',\n",
       " 'mentioned',\n",
       " 'easier',\n",
       " 'unique',\n",
       " 'loading',\n",
       " 'feature',\n",
       " 'finally',\n",
       " 'keys',\n",
       " 'provided',\n",
       " 'normal',\n",
       " 'believe',\n",
       " 'appear',\n",
       " 'job',\n",
       " 'tags',\n",
       " 'assume',\n",
       " 'double',\n",
       " 'product',\n",
       " 'operator',\n",
       " '//jsfiddle',\n",
       " 'comments',\n",
       " 'nbsp',\n",
       " 'entire',\n",
       " 'os',\n",
       " 'functionality',\n",
       " 'cache',\n",
       " 'tool',\n",
       " 'arguments',\n",
       " 'network',\n",
       " 'links',\n",
       " 'words',\n",
       " 'require',\n",
       " 'h',\n",
       " 'demo',\n",
       " 'additional',\n",
       " 'queries',\n",
       " 'perform',\n",
       " 'stop',\n",
       " 'starting',\n",
       " 'resource',\n",
       " 'including',\n",
       " 'outside',\n",
       " 'dll',\n",
       " 'specified',\n",
       " 'except',\n",
       " 'bad',\n",
       " 'exists',\n",
       " 'passing',\n",
       " 'operation',\n",
       " 'due',\n",
       " 'security',\n",
       " '//github',\n",
       " 'although',\n",
       " 'arrays',\n",
       " 'condition',\n",
       " 'status',\n",
       " 'versions',\n",
       " 'spring',\n",
       " 'seen',\n",
       " 'dynamic',\n",
       " 'bug',\n",
       " 'body',\n",
       " 'displayed',\n",
       " 'vector',\n",
       " 'port',\n",
       " 'title',\n",
       " 'unless',\n",
       " 'buttons',\n",
       " 'none',\n",
       " 'views',\n",
       " 'py',\n",
       " 'libraries',\n",
       " 'showing',\n",
       " 'rails',\n",
       " 'recommend',\n",
       " 'thus',\n",
       " 'frame',\n",
       " 'facebook',\n",
       " 'therefore',\n",
       " 'threads',\n",
       " 'random',\n",
       " 'explain',\n",
       " 'stuff',\n",
       " 'executed',\n",
       " 'hard',\n",
       " 'sense',\n",
       " 'development',\n",
       " 'runtime',\n",
       " 'sometimes',\n",
       " 'tools',\n",
       " 'containing',\n",
       " '00',\n",
       " 'day',\n",
       " 'token',\n",
       " 'happen',\n",
       " 'play',\n",
       " 'important',\n",
       " 'submit',\n",
       " 'upload',\n",
       " 'free',\n",
       " 'attributes',\n",
       " 'core',\n",
       " 'contents',\n",
       " 'services',\n",
       " 'likely',\n",
       " 'anyway',\n",
       " 'ask',\n",
       " 'answers',\n",
       " 'solved',\n",
       " 'linux',\n",
       " 'regular',\n",
       " 'extra',\n",
       " 'seconds',\n",
       " 'follow',\n",
       " 'big',\n",
       " 'bytes',\n",
       " 'retrieve',\n",
       " 'others',\n",
       " 'callback',\n",
       " 'definition',\n",
       " 'implemented',\n",
       " 'requires',\n",
       " 'necessary',\n",
       " 'bottom',\n",
       " 'repository',\n",
       " 'mvc',\n",
       " 'excel',\n",
       " 'sent',\n",
       " 'programming',\n",
       " 'algorithm',\n",
       " 'together',\n",
       " 'external',\n",
       " 'tutorial',\n",
       " 'fails',\n",
       " 'stream',\n",
       " 'game',\n",
       " 'matter',\n",
       " 'validation',\n",
       " 'undefined',\n",
       " 'choose',\n",
       " 'perhaps',\n",
       " 'expect',\n",
       " 'assign',\n",
       " 'suggestions',\n",
       " 'wondering',\n",
       " 'tree',\n",
       " 'included',\n",
       " 'foo',\n",
       " 'completely',\n",
       " 'report',\n",
       " 'remote',\n",
       " 'docs',\n",
       " 'push',\n",
       " 'aspx',\n",
       " 'building',\n",
       " 'std',\n",
       " 'checking',\n",
       " 'vs',\n",
       " 'switch',\n",
       " 'split',\n",
       " 'amount',\n",
       " 'o',\n",
       " 'effect',\n",
       " 'failed',\n",
       " 'dialog',\n",
       " 'dynamically',\n",
       " 'receive',\n",
       " 'host',\n",
       " 'creates',\n",
       " 'binary',\n",
       " 'projects',\n",
       " 'along',\n",
       " 'built',\n",
       " 'resources',\n",
       " 'entry',\n",
       " 'removed',\n",
       " 'applications',\n",
       " 'grid',\n",
       " 'steps',\n",
       " 'compare',\n",
       " 'pdf',\n",
       " 'char',\n",
       " 'redirect',\n",
       " '12',\n",
       " 'across',\n",
       " 'release',\n",
       " 'returning',\n",
       " 'article',\n",
       " 'successfully',\n",
       " 'apps',\n",
       " 'execution',\n",
       " 'phone',\n",
       " 'final',\n",
       " 'proper',\n",
       " 'route',\n",
       " 'depends',\n",
       " 'present',\n",
       " 'member',\n",
       " 'exe',\n",
       " 'references',\n",
       " '20',\n",
       " 'happening',\n",
       " 'hash',\n",
       " 'solutions',\n",
       " 'label',\n",
       " 'ip',\n",
       " 'unfortunately',\n",
       " 'exact',\n",
       " 'short',\n",
       " 'csv',\n",
       " 'sdk',\n",
       " 'angular',\n",
       " 'github',\n",
       " 'total',\n",
       " 'special',\n",
       " 'whenever',\n",
       " 'appropriate',\n",
       " 'internal',\n",
       " 'tested',\n",
       " 'txt',\n",
       " 'mobile',\n",
       " 'scroll',\n",
       " 'sending',\n",
       " 'longer',\n",
       " 'operations',\n",
       " 'render',\n",
       " 'dictionary',\n",
       " 'native',\n",
       " 'private',\n",
       " 'matrix',\n",
       " 'instances',\n",
       " 'trigger',\n",
       " 'processing',\n",
       " 'starts',\n",
       " 'faster',\n",
       " 'authentication',\n",
       " 'wrote',\n",
       " 'branch',\n",
       " 'override',\n",
       " 'days',\n",
       " 'visible',\n",
       " 'equal',\n",
       " 'bind',\n",
       " 'situation',\n",
       " 'hidden',\n",
       " 'nodes',\n",
       " 'commands',\n",
       " 'shell',\n",
       " 'self',\n",
       " 'obviously',\n",
       " 'clicked',\n",
       " 'developer',\n",
       " 'f',\n",
       " 'prevent',\n",
       " 'third',\n",
       " 'fiddle',\n",
       " 'binding',\n",
       " '11',\n",
       " 'latest',\n",
       " 'rule',\n",
       " 'matches',\n",
       " 'limit',\n",
       " 'often',\n",
       " 'dom',\n",
       " 'lists',\n",
       " 'shared',\n",
       " 'declare',\n",
       " 'queue',\n",
       " 'unit',\n",
       " 'usage',\n",
       " 'nice',\n",
       " 'firefox',\n",
       " 'turn',\n",
       " 'perfectly',\n",
       " 'various',\n",
       " 'buffer',\n",
       " 'sum',\n",
       " 'desired',\n",
       " 'computer',\n",
       " 'rules',\n",
       " 'somewhere',\n",
       " 'snippet',\n",
       " 'features',\n",
       " 'almost',\n",
       " 'ruby',\n",
       " 'nested',\n",
       " 'warning',\n",
       " 'username',\n",
       " 'graph',\n",
       " 'extract',\n",
       " 'active',\n",
       " 'statements',\n",
       " 'supposed',\n",
       " 'wait',\n",
       " 'couple',\n",
       " 'us',\n",
       " 'relevant',\n",
       " 'share',\n",
       " 'oracle',\n",
       " 'drop',\n",
       " 'resolve',\n",
       " 'xcode',\n",
       " 'generic',\n",
       " 'procedure',\n",
       " 'ones',\n",
       " 'components',\n",
       " 'complex',\n",
       " 'forms',\n",
       " 'byte',\n",
       " 'fetch',\n",
       " 'giving',\n",
       " 'sorry',\n",
       " 'trouble',\n",
       " 'break',\n",
       " 'django',\n",
       " 'unable',\n",
       " 'models',\n",
       " 'dependencies',\n",
       " 'sequence',\n",
       " 'description',\n",
       " 'commit',\n",
       " 'explicitly',\n",
       " 'virtual',\n",
       " 'refer',\n",
       " 'somehow',\n",
       " 'provides',\n",
       " 'notice',\n",
       " 'storage',\n",
       " 'area',\n",
       " 'corresponding',\n",
       " 'controls',\n",
       " 'determine',\n",
       " 'layer',\n",
       " 'scenario',\n",
       " 'configure',\n",
       " 'practice',\n",
       " 'supported',\n",
       " 'admin',\n",
       " 'suppose',\n",
       " 'zero',\n",
       " 'alternative',\n",
       " 'invalid',\n",
       " 'engine',\n",
       " 'manager',\n",
       " 'internet',\n",
       " 'apple',\n",
       " 'browsers',\n",
       " 'modified',\n",
       " 'dependency',\n",
       " 'var',\n",
       " 'managed',\n",
       " 'sets',\n",
       " 'duplicate',\n",
       " 'animation',\n",
       " 'equivalent',\n",
       " 'schema',\n",
       " 'followed',\n",
       " 'success',\n",
       " 'mind',\n",
       " 'register',\n",
       " 'thinking',\n",
       " 'fragment',\n",
       " '\\\\',\n",
       " 'calculate',\n",
       " 'purpose',\n",
       " 'person',\n",
       " 'devices',\n",
       " 'software',\n",
       " 'ensure',\n",
       " 'future',\n",
       " 'declared',\n",
       " ...]"
      ]
     },
     "execution_count": 8,
     "metadata": {},
     "output_type": "execute_result"
    }
   ],
   "source": [
    "wv_embeddings.index_to_key"
   ]
  },
  {
   "cell_type": "markdown",
   "metadata": {
    "id": "aIcT_g-C6j1E"
   },
   "source": [
    "#### Как пользоваться этими векторами?"
   ]
  },
  {
   "cell_type": "markdown",
   "metadata": {
    "id": "DWO5SPDY6j1G"
   },
   "source": [
    "Посмотрим на примере одного слова, что из себя представляет embedding"
   ]
  },
  {
   "cell_type": "code",
   "execution_count": 13,
   "metadata": {
    "id": "KeSBlQfk6j1J",
    "scrolled": true
   },
   "outputs": [
    {
     "name": "stdout",
     "output_type": "stream",
     "text": [
      "float32 (200,)\n"
     ]
    }
   ],
   "source": [
    "word = 'dog'\n",
    "if word in wv_embeddings:\n",
    "    print(wv_embeddings[word].dtype, wv_embeddings[word].shape)"
   ]
  },
  {
   "cell_type": "code",
   "execution_count": 14,
   "metadata": {},
   "outputs": [
    {
     "data": {
      "text/plain": [
       "array([[1.0000001]], dtype=float32)"
      ]
     },
     "execution_count": 14,
     "metadata": {},
     "output_type": "execute_result"
    }
   ],
   "source": [
    "cosine_similarity([wv_embeddings['dog']], [wv_embeddings['dog']])"
   ]
  },
  {
   "cell_type": "code",
   "execution_count": 15,
   "metadata": {
    "id": "T4Eq-D1qxpMJ"
   },
   "outputs": [
    {
     "name": "stdout",
     "output_type": "stream",
     "text": [
      "Num of words: 1787145\n"
     ]
    }
   ],
   "source": [
    "print(f\"Num of words: {len(wv_embeddings.index_to_key)}\")"
   ]
  },
  {
   "cell_type": "code",
   "execution_count": 16,
   "metadata": {},
   "outputs": [],
   "source": [
    "dog_v = wv_embeddings[word]"
   ]
  },
  {
   "cell_type": "markdown",
   "metadata": {
    "id": "ZT6NTCys6j1Q"
   },
   "source": [
    "Найдем наиболее близкие слова к слову `dog`:"
   ]
  },
  {
   "cell_type": "markdown",
   "metadata": {
    "id": "n08z2PjMwC5o"
   },
   "source": [
    "#### Вопрос 1:\n",
    "* Входит ли слов `cat` топ-5 близких слов к слову `dog`? Какое место?\n",
    "\n",
    "\n",
    "#### Ответ 1: Кот не в топ 5. Место 25."
   ]
  },
  {
   "cell_type": "code",
   "execution_count": 18,
   "metadata": {},
   "outputs": [],
   "source": [
    "# С помощью встроенной функции\n",
    "def get_most_similar_words_gensim(embeddings, word, n_words):\n",
    "    return embeddings.most_similar(positive=[word], topn=n_words)"
   ]
  },
  {
   "cell_type": "code",
   "execution_count": 19,
   "metadata": {},
   "outputs": [
    {
     "name": "stdout",
     "output_type": "stream",
     "text": [
      "Кот не в топ 5\n",
      "Позиция кота 25\n"
     ]
    }
   ],
   "source": [
    "top5_sim_dog = get_most_similar_words_gensim(wv_embeddings, 'dog', 5)\n",
    "top100_sim_dog = get_most_similar_words_gensim(wv_embeddings, 'dog', 100)\n",
    "cat_pos_top5 = [index for (index, x) in enumerate(top5_sim_dog) if x[0] == 'cat']\n",
    "if cat_pos_top5 : \n",
    "    cat_pos_top5[0]\n",
    "else:\n",
    "    print('Кот не в топ 5')\n",
    "    \n",
    "cat_pos_top100 = [index for (index, x) in enumerate(top100_sim_dog) if x[0] == 'cat']\n",
    "if cat_pos_top100:\n",
    "    print(f'Позиция кота {cat_pos_top100[0]}')\n",
    "    "
   ]
  },
  {
   "cell_type": "markdown",
   "metadata": {
    "id": "ai48-5vv6j1d"
   },
   "source": [
    "### Векторные представления текста\n",
    "\n",
    "Перейдем от векторных представлений отдельных слов к векторным представлениям вопросов, как к **среднему** векторов всех слов в вопросе. Если для какого-то слова нет предобученного вектора, то его нужно пропустить. Если вопрос не содержит ни одного известного слова, то нужно вернуть нулевой вектор."
   ]
  },
  {
   "cell_type": "code",
   "execution_count": 20,
   "metadata": {
    "id": "EhNuxBJd6j1f"
   },
   "outputs": [],
   "source": [
    "# you can use your tokenizer\n",
    "# for example, from nltk.tokenize import WordPunctTokenizer\n",
    "class MyTokenizer:\n",
    "    def __init__(self):\n",
    "        self.tokenizer = WordPunctTokenizer()\n",
    "    def tokenize(self, text):\n",
    "        return self.tokenizer.tokenize(text)\n"
   ]
  },
  {
   "cell_type": "code",
   "execution_count": 93,
   "metadata": {
    "id": "YHcvu6186j1m"
   },
   "outputs": [],
   "source": [
    "def question_to_vec(question, embeddings, tokenizer, dim=200):\n",
    "    \"\"\"\n",
    "        question: строка\n",
    "        embeddings: наше векторное представление\n",
    "        dim: размер любого вектора в нашем представлении\n",
    "        \n",
    "        return: векторное представление для вопроса\n",
    "    \"\"\"\n",
    "    tokens = tokenizer.tokenize(question)\n",
    "    vectors = [embeddings[x] for x in tokens if x in embeddings]\n",
    "    \n",
    "    if len(vectors) == 0 :\n",
    "        return np.zeros(dim)\n",
    "    \n",
    "    stacked_v = np.stack(vectors)\n",
    "\n",
    "    return np.mean(stacked_v, axis=0)"
   ]
  },
  {
   "cell_type": "markdown",
   "metadata": {
    "id": "u5Q_4j7r6j1u"
   },
   "source": [
    "<!-- Теперь у нас есть метод для создания векторного представления любого предложения. -->"
   ]
  },
  {
   "cell_type": "markdown",
   "metadata": {
    "id": "EsJSNkhm6j1y"
   },
   "source": [
    "#### Вопрос 2:\n",
    "* Какая третья(с индексом 2) компонента вектора предложения `I love neural networks` (округлите до 2 знаков после запятой)?\n",
    "\n",
    "#### Ответ 2: -1.29"
   ]
  },
  {
   "cell_type": "code",
   "execution_count": 94,
   "metadata": {
    "id": "a62r11cT6j10",
    "scrolled": true
   },
   "outputs": [
    {
     "data": {
      "text/plain": [
       "-1.29"
      ]
     },
     "execution_count": 94,
     "metadata": {},
     "output_type": "execute_result"
    }
   ],
   "source": [
    "question = 'I love neural networks'\n",
    "tokenizer = MyTokenizer()\n",
    "\n",
    "round(question_to_vec(question, wv_embeddings, tokenizer)[2], 2)"
   ]
  },
  {
   "cell_type": "markdown",
   "metadata": {
    "id": "Y60z4t6W6j16"
   },
   "source": [
    "### Оценка близости текстов\n",
    "\n",
    "Представим, что мы используем идеальные векторные представления слов. Тогда косинусное расстояние между дублирующими предложениями должно быть меньше, чем между случайно взятыми предложениями. \n",
    "\n",
    "Сгенерируем для каждого из $N$ вопросов $R$ случайных отрицательных примеров и примешаем к ним также настоящие дубликаты. Для каждого вопроса будем ранжировать с помощью нашей модели $R + 1$ примеров и смотреть на позицию дубликата. Мы хотим, чтобы дубликат был первым в ранжированном списке.\n",
    "\n",
    "#### Hits@K\n",
    "Первой простой метрикой будет количество корректных попаданий для какого-то $K$:\n",
    "$$ \\text{Hits@K} = \\frac{1}{N}\\sum_{i=1}^N \\, [rank\\_q_i^{'} \\le K],$$\n",
    "* $\\begin{equation*}\n",
    "[x < 0 ] \\equiv \n",
    " \\begin{cases}\n",
    "   1, &x < 0\\\\\n",
    "   0, &x \\geq 0\n",
    " \\end{cases}\n",
    "\\end{equation*}$ - индикаторная функция\n",
    "* $q_i$ - $i$-ый вопрос\n",
    "* $q_i^{'}$ - его дубликат\n",
    "* $rank\\_q_i^{'}$ - позиция дубликата в ранжированном списке ближайших предложений для вопроса $q_i$.\n",
    "\n",
    "#### DCG@K\n",
    "Второй метрикой будет упрощенная DCG метрика, учитывающая порядок элементов в списке путем домножения релевантности элемента на вес равный обратному логарифму номера позиции::\n",
    "$$ \\text{DCG@K} = \\frac{1}{N} \\sum_{i=1}^N\\frac{1}{\\log_2(1+rank\\_q_i^{'})}\\cdot[rank\\_q_i^{'} \\le K],$$\n",
    "С такой метрикой модель штрафуется за большой ранк корректного ответа"
   ]
  },
  {
   "cell_type": "markdown",
   "metadata": {
    "id": "eHCnH-jw6j18"
   },
   "source": [
    "#### Вопрос 3:\n",
    "* Максимум `Hits@47 - DCG@1`?\n",
    "\n",
    "#### Ответ 3: max(HITS@47 - DCG@1) =max(HITS@47) - min(DCG@1) = 1\n",
    "* max(DCG@1) = 1\n",
    "* max(Hits@47) = 1\n",
    "* min(DCG@1) = 0"
   ]
  },
  {
   "cell_type": "markdown",
   "metadata": {
    "id": "_tFemBkP6j1-"
   },
   "source": [
    "<img src='https://hsto.org/files/1c5/edf/dee/1c5edfdeebce4b71a86bdf986d9f88f2.jpg' width=400, height=200>"
   ]
  },
  {
   "cell_type": "markdown",
   "metadata": {
    "id": "0sUSxk866j1_"
   },
   "source": [
    "#### Пример оценок\n",
    "\n",
    "Вычислим описанные выше метрики для игрушечного примера. \n",
    "Пусть\n",
    "* $N = 1$, $R = 3$\n",
    "* <font color='green'>\"Что такое python?\"</font> - вопрос $q_1$\n",
    "* <font color='red'>\"Что такое язык python?\"</font> - его дубликат $q_i^{'}$\n",
    "\n",
    "Пусть модель выдала следующий ранжированный список кандидатов:\n",
    "\n",
    "1. \"Как изучить с++?\"\n",
    "2. <font color='red'>\"Что такое язык python?\"</font>\n",
    "3. \"Хочу учить Java\"\n",
    "4. \"Не понимаю Tensorflow\"\n",
    "\n",
    "$\\Rightarrow rank\\_q_i^{'} = 2$\n",
    "\n",
    "Вычислим метрику *Hits@K* для *K = 1, 4*:\n",
    "\n",
    "- [K = 1] $\\text{Hits@1} =  [rank\\_q_i^{'} \\le 1)] = 0$\n",
    "- [K = 4] $\\text{Hits@4} =  [rank\\_q_i^{'} \\le 4] = 1$\n",
    "\n",
    "Вычислим метрику *DCG@K* для *K = 1, 4*:\n",
    "- [K = 1] $\\text{DCG@1} = \\frac{1}{\\log_2(1+2)}\\cdot[2 \\le 1] = 0$\n",
    "- [K = 4] $\\text{DCG@4} = \\frac{1}{\\log_2(1+2)}\\cdot[2 \\le 4] = \\frac{1}{\\log_2{3}}$"
   ]
  },
  {
   "cell_type": "markdown",
   "metadata": {
    "id": "B4L6HJJC6j2B"
   },
   "source": [
    "#### Вопрос 4:\n",
    "* Вычислите `DCG@10`, если $rank\\_q_i^{'} = 9$(округлите до одного знака после запятой) (N = 1 ?)\n",
    "\n",
    "#### Ответ 4: 0.3"
   ]
  },
  {
   "cell_type": "code",
   "execution_count": 95,
   "metadata": {},
   "outputs": [
    {
     "data": {
      "text/plain": [
       "0.3"
      ]
     },
     "execution_count": 95,
     "metadata": {},
     "output_type": "execute_result"
    }
   ],
   "source": [
    "round(1 / np.log2(10), 1)"
   ]
  },
  {
   "cell_type": "markdown",
   "metadata": {
    "id": "J5xWOORI6j2F"
   },
   "source": [
    "### HITS\\_COUNT и DCG\\_SCORE"
   ]
  },
  {
   "cell_type": "markdown",
   "metadata": {
    "id": "I1q9WQOx6j2H"
   },
   "source": [
    "Каждая функция имеет два аргумента: $dup\\_ranks$ и $k$. $dup\\_ranks$ является списком, который содержит рейтинги дубликатов(их позиции в ранжированном списке). Например, $dup\\_ranks = [2]$ для примера, описанного выше."
   ]
  },
  {
   "cell_type": "code",
   "execution_count": 96,
   "metadata": {
    "id": "F5VwySUB6j2J"
   },
   "outputs": [],
   "source": [
    "def hits_count(dup_ranks, k):\n",
    "    \"\"\"\n",
    "        dup_ranks: list индексов дубликатов\n",
    "        result: вернуть  Hits@k\n",
    "    \"\"\"\n",
    "    return sum([1 if x <= k else 0 for x in dup_ranks]) / len(dup_ranks)"
   ]
  },
  {
   "cell_type": "code",
   "execution_count": 97,
   "metadata": {
    "id": "82hQaxCH6j2R"
   },
   "outputs": [],
   "source": [
    "def dcg_score(dup_ranks, k):\n",
    "    \"\"\"\n",
    "        dup_ranks: list индексов дубликатов\n",
    "        result: вернуть DCG@k\n",
    "    \"\"\"\n",
    "    return sum([1 / np.log2(x + 1) if x <= k  else 0 for x in dup_ranks]) / len(dup_ranks)"
   ]
  },
  {
   "cell_type": "markdown",
   "metadata": {
    "id": "PcwHeXN26j2Y"
   },
   "source": [
    "Протестируем функции. Пусть $N = 1$, то есть один эксперимент. Будем искать копию вопроса и оценивать метрики."
   ]
  },
  {
   "cell_type": "code",
   "execution_count": 98,
   "metadata": {
    "id": "gLa_Wqfh6j2m"
   },
   "outputs": [
    {
     "name": "stdout",
     "output_type": "stream",
     "text": [
      "Ваш ответ HIT: [0.0, 1.0, 1.0, 1.0]\n",
      "Ваш ответ DCG: [0.0, 0.63093, 0.63093, 0.63093]\n"
     ]
    }
   ],
   "source": [
    "copy_answers = [\"How does the catch keyword determine the type of exception that was thrown\",]\n",
    "\n",
    "# наги кандидаты\n",
    "candidates_ranking = [[\"How Can I Make These Links Rotate in PHP\",\n",
    "                       \"How does the catch keyword determine the type of exception that was thrown\",\n",
    "                       \"NSLog array description not memory address\",\n",
    "                       \"PECL_HTTP not recognised php ubuntu\"],]\n",
    "# dup_ranks — позиции наших копий, так как эксперимент один, то этот массив длины 1\n",
    "dup_ranks = [2]\n",
    "\n",
    "# вычисляем метрику для разных k\n",
    "print('Ваш ответ HIT:', [hits_count(dup_ranks, k) for k in range(1, 5)])\n",
    "print('Ваш ответ DCG:', [round(dcg_score(dup_ranks, k), 5) for k in range(1, 5)])"
   ]
  },
  {
   "cell_type": "markdown",
   "metadata": {
    "id": "MoHC3YoQ6j2t"
   },
   "source": [
    "У вас должно получиться"
   ]
  },
  {
   "cell_type": "code",
   "execution_count": 99,
   "metadata": {
    "id": "B0NFWq4f6j2u",
    "scrolled": true
   },
   "outputs": [
    {
     "data": {
      "text/html": [
       "<div>\n",
       "<style scoped>\n",
       "    .dataframe tbody tr th:only-of-type {\n",
       "        vertical-align: middle;\n",
       "    }\n",
       "\n",
       "    .dataframe tbody tr th {\n",
       "        vertical-align: top;\n",
       "    }\n",
       "\n",
       "    .dataframe thead th {\n",
       "        text-align: right;\n",
       "    }\n",
       "</style>\n",
       "<table border=\"1\" class=\"dataframe\">\n",
       "  <thead>\n",
       "    <tr style=\"text-align: right;\">\n",
       "      <th></th>\n",
       "      <th>1</th>\n",
       "      <th>2</th>\n",
       "      <th>3</th>\n",
       "      <th>4</th>\n",
       "    </tr>\n",
       "  </thead>\n",
       "  <tbody>\n",
       "    <tr>\n",
       "      <th>HITS</th>\n",
       "      <td>0</td>\n",
       "      <td>1.00000</td>\n",
       "      <td>1.00000</td>\n",
       "      <td>1.00000</td>\n",
       "    </tr>\n",
       "    <tr>\n",
       "      <th>DCG</th>\n",
       "      <td>0</td>\n",
       "      <td>0.63093</td>\n",
       "      <td>0.63093</td>\n",
       "      <td>0.63093</td>\n",
       "    </tr>\n",
       "  </tbody>\n",
       "</table>\n",
       "</div>"
      ],
      "text/plain": [
       "      1        2        3        4\n",
       "HITS  0  1.00000  1.00000  1.00000\n",
       "DCG   0  0.63093  0.63093  0.63093"
      ]
     },
     "execution_count": 99,
     "metadata": {},
     "output_type": "execute_result"
    }
   ],
   "source": [
    "# correct_answers - метрика для разных k\n",
    "correct_answers = pd.DataFrame([[0, 1, 1, 1], [0, 1 / (np.log2(3)), 1 / (np.log2(3)), 1 / (np.log2(3))]],\n",
    "                               index=['HITS', 'DCG'], columns=range(1,5))\n",
    "correct_answers"
   ]
  },
  {
   "cell_type": "markdown",
   "metadata": {
    "id": "tHZqgDTo6j0i"
   },
   "source": [
    "### Данные\n",
    "[arxiv link](https://drive.google.com/file/d/1QqT4D0EoqJTy7v9VrNCYD-m964XZFR7_/edit)\n",
    "\n",
    "`train.tsv` - выборка для обучения.<br> В каждой строке через табуляцию записаны: **<вопрос>, <похожий вопрос>**\n",
    "\n",
    "`validation.tsv` - тестовая выборка.<br> В каждой строке через табуляцию записаны: **<вопрос>, <похожий вопрос>, <отрицательный пример 1>, <отрицательный пример 2>, ...**"
   ]
  },
  {
   "cell_type": "markdown",
   "metadata": {
    "id": "hil2UsUG6j22"
   },
   "source": [
    "Считайте данные."
   ]
  },
  {
   "cell_type": "code",
   "execution_count": 100,
   "metadata": {
    "id": "B4EBho8s6j26"
   },
   "outputs": [],
   "source": [
    "def read_corpus(filename, val=False):\n",
    "    data = []\n",
    "    for line in open(filename, encoding='utf-8'):\n",
    "        splitted = line.split('\\t')\n",
    "        data.append((splitted[0], splitted[1:]))\n",
    "    return data"
   ]
  },
  {
   "cell_type": "markdown",
   "metadata": {
    "id": "kkTxY3Mk9_nG"
   },
   "source": [
    "Нам понадобиться только файл validation."
   ]
  },
  {
   "cell_type": "code",
   "execution_count": 101,
   "metadata": {},
   "outputs": [],
   "source": [
    "validation_data = read_corpus('./data/validation.tsv')"
   ]
  },
  {
   "cell_type": "code",
   "execution_count": 102,
   "metadata": {},
   "outputs": [],
   "source": [
    "train_data = read_corpus('./data/train.tsv')"
   ]
  },
  {
   "cell_type": "markdown",
   "metadata": {
    "id": "bTHfL-9y6j3F"
   },
   "source": [
    "Кол-во строк"
   ]
  },
  {
   "cell_type": "code",
   "execution_count": 103,
   "metadata": {
    "id": "z6ubXhIe6j3H",
    "scrolled": false
   },
   "outputs": [
    {
     "data": {
      "text/plain": [
       "3760"
      ]
     },
     "execution_count": 103,
     "metadata": {},
     "output_type": "execute_result"
    }
   ],
   "source": [
    "len(validation_data)"
   ]
  },
  {
   "cell_type": "markdown",
   "metadata": {
    "id": "kaOQblBy6j3M"
   },
   "source": [
    "Размер нескольких первых строк"
   ]
  },
  {
   "cell_type": "code",
   "execution_count": 104,
   "metadata": {
    "id": "yRx6e-Pe6j3M",
    "scrolled": true
   },
   "outputs": [
    {
     "name": "stdout",
     "output_type": "stream",
     "text": [
      "1 2\n",
      "2 2\n",
      "3 2\n",
      "4 2\n",
      "5 2\n"
     ]
    }
   ],
   "source": [
    "for i in range(5):\n",
    "    print(i + 1, len(validation_data[i]))"
   ]
  },
  {
   "cell_type": "code",
   "execution_count": 105,
   "metadata": {},
   "outputs": [
    {
     "data": {
      "text/plain": [
       "['How do you best convert a recursive function to an iterative one?',\n",
       " 'How can i use ng-model with directive in angular js',\n",
       " 'flash: drawing and erasing',\n",
       " 'toggle react component using hide show classname',\n",
       " 'Use a usercontrol from another project to current webpage',\n",
       " '~ Paths resolved differently after upgrading to ASP.NET 4',\n",
       " 'Materialize datepicker - Rendering when an icon is clicked',\n",
       " 'Creating PyPi package - Could not find a version that satisfies the requirement iso8601',\n",
       " 'How can I analyze a confusion matrix?',\n",
       " 'How do I declare a C array in Swift?',\n",
       " 'Using rand() when flipping a coin and rolling a die',\n",
       " 'Handling a JSON field with a special character in its name in Java',\n",
       " 'React Native select row on ListView when push it',\n",
       " \"Get 'creation_time' of video using ffmpeg and regex\",\n",
       " 'Does row exist and multiple where',\n",
       " \"How to specify a classifier in a gradle dependency's dependency?\",\n",
       " 'Using $unwind on multiple documents',\n",
       " 'Visual Studio Code: Missing X509Certificate2UI',\n",
       " 'Developing Cordova plugins for Firefox OS',\n",
       " 'Update multiple rows for 2 columns in MySQL',\n",
       " 'Analyse format of alpha-numeric string',\n",
       " 'Dealing with large TIFF images C++/Magick/libtiff',\n",
       " 'What does Error: [$injector:unpr] Unknown provider: tProvider <- t <- myActiveLinkDirective mean?',\n",
       " 'AngularJS - Apply directive instantly, formating currency',\n",
       " 'Can I change the font color on a portion of a string?',\n",
       " \"Spring AOP does not intercept methods within Spring's container\",\n",
       " 'How to retrieve json in original nested form in apache solr?',\n",
       " \"Spatial autocorrelation using Moran's I or other spatial overlap index\",\n",
       " 'how to stop my php page from continuing when field is empty',\n",
       " 'Selecting all CheckBoxes in ListBox not displayed properly',\n",
       " \"PHP warning: Illegal string offset 'field'\",\n",
       " 'WebBrowser control crashes on Windows 10',\n",
       " 'Error while opening a modal in angular',\n",
       " 'Port 25 works when exe run manually but blocked when run as service',\n",
       " 'Why does 6.00 + (plus) 5.00 = \"5.006.00\"?',\n",
       " 'Count number of processes created using fork in a for loop',\n",
       " 'When should I use UIImagePickerControllerSourceTypePhotoLibrary instead of UIImagePickerControllerSourceTypeSavedPhotosAlbum?',\n",
       " 'Read File in Java, output the first comma delimited String',\n",
       " 'Simple recursive method',\n",
       " 'Ensure SQLite table only has one row',\n",
       " 'Why is there a method iterator() on java.util.Collection',\n",
       " 'Development for Cloudant using local CouchDB',\n",
       " 'Regex to find method calls',\n",
       " 'ASP.NET Menu rendering different from vs2008 to vs2010',\n",
       " 'Maven - Change jUnit Version in Quickstart Archetype',\n",
       " 'Writing sublists in a list of lists to separate text files',\n",
       " 'iPad: problems with table rows in popovercontrol',\n",
       " 'Retrieve multiple results set',\n",
       " 'pagination is not working in codeigniter :(',\n",
       " 'Angular NVD3 Change Colors In Legends Also',\n",
       " 'node.js server not responding while large file upload with express and busboy',\n",
       " 'Send request & Get Response in Windows Phone 8.1 WinRT',\n",
       " 'want to delete only empty folders from directory before last 30 days using batch',\n",
       " 'Creating X amount of threads that execute a task at the same time',\n",
       " 'Android Studio 2.2 update: aligned APK (zipAlign) not generated using the new Gradle Plugin 2.2.0',\n",
       " 'Entity Framework - adding the same entity twice in many-to-many relationships',\n",
       " 'Join two tables, only display unique values and maxium date',\n",
       " 'How to use absolute position relative to parent element',\n",
       " 'Search refinement for WebMatrix site',\n",
       " 'Maven project version as expression, not constant',\n",
       " 'Can I prevent App.g.i.cs to be generated?',\n",
       " 'Troubles converting XSD to Java using JAXB',\n",
       " 'Cannot run a jax rs web service with tomcat',\n",
       " 'make a password protected bash script resist/refuse \"bash -x\" when the password is given',\n",
       " 'Does youtube api play function trigger a view count?',\n",
       " 'Why is this Perl loop over strings then characters so slow?',\n",
       " 'How can I change the size of rgl plots in Shiny RMarkdown?',\n",
       " 'How do I programmatically disconnect clients which are connected to Solace appliance?',\n",
       " 'Rails before_filter (Correct_user OR Admin)',\n",
       " 'How to gitignore everything except hidden subdir?',\n",
       " 'Should I use weakSelf in nested blocks?',\n",
       " 'CSS background color not behaving as expected',\n",
       " 'Android app Listview cannot be scrolled to bottom to search a specific element using appium in java',\n",
       " 'Rails: Why \"has_many ..., :through => ...\" association results in \"NameError: uninitialized constant ...\"',\n",
       " 'How to send data between fragments when swiping tabs in ViewPager',\n",
       " 'Wordpress static pages: how to embed content into templates?',\n",
       " 'Troubles with importing classes from Angular 2 modules with Typescript 1.7',\n",
       " 'i am not able to get the images read in java for exporting it as JAR',\n",
       " 'How do I create a resource dll',\n",
       " 'error: linker command failed: ld: duplicate symbol _main',\n",
       " 'sql to find non-printable characters in a string',\n",
       " 'i want to generate payperiod for each month',\n",
       " 'Interactively enter headline under which to place an entry using capture',\n",
       " 'Querying the DNS service records to find the hostname and TCP/IP',\n",
       " 'Can I use setContentView outside the oncreate method?',\n",
       " 'Consolitate data from multible sheets ,re-arrange the data as per the column name',\n",
       " \"Why is my 'transparent' overlay view opaque?\",\n",
       " 'how can I run play framework with port=9001 under windows cmd not under play console?',\n",
       " 'Rails 3 - Ajax POSTS from a link click',\n",
       " 'Add html content to mysql die error?',\n",
       " 'Best way to run a Plack PSGI Perl application outside of Apache using FastCGI?',\n",
       " 'How to Call NSUserDefault Value To Another View Controller?',\n",
       " 'Does Qt have a way to get the font that the particular css resolves to?',\n",
       " 'How to update Parent component about the data that child component modified(angular 1.5)',\n",
       " '2d array, pushing to one array shows up in all arrays?',\n",
       " 'Get NSData from assets-library URL',\n",
       " 'How to specify image size in HTML Doxygen?',\n",
       " 'NSFetchedResultsControllerDelegate in a second view controller (not firing?)',\n",
       " 'Draggable divs getting mixed with another divs',\n",
       " 'creating MLP in python showing error',\n",
       " 'Create SharePoint 2010 ribbon button programmatically w/o feature XML',\n",
       " 'how can I use pyglet write a music player can play a music list',\n",
       " 'How can I efficiently debug loops consisting of a large number of iterations on Eclipse?',\n",
       " 'Passing a model object to a RedirectToAction without polluting the URL?',\n",
       " \"Automatically receiving mobile phone's SMS to hyperterminal\",\n",
       " 'Output \"System.out.println\" into Emacs Cider\\'s REPL (or other buffer)',\n",
       " 'Scoring regression model using PMML with Augustus in Python',\n",
       " 'Safari View Controller - send data back to app',\n",
       " 'Signalling a bash script running in the background in an infinite loop',\n",
       " 'How do I add in-app purchase to a published app in play store and test it before going into production?',\n",
       " 'FileNotFoundException in Windows 10 Universal App (UAP)',\n",
       " 'How to map one column with other columns in an avro file?',\n",
       " 'Retrieving all the cell data from a jQuery datatable on post',\n",
       " 'In Play! Frame work Can I Make classes In models package Singleton?',\n",
       " 'Binding events with Hammer.js and .on()',\n",
       " 'yii making user auto logged in on signup end (auto authentication after signup)',\n",
       " 'Unreal Engine 4: save rendered frame to memory',\n",
       " 'Building HelloWorld C++ Program in Linux with ncurses',\n",
       " 'Generating Checkbox Lists with MVC3 using a complex viewmodel and a cross table with Linq to SQL',\n",
       " 'CordovaWebView: TIMEOUT ERROR',\n",
       " 'Whats wrong in my xsd schema ? It gives type element is not declared on include of another xsd file',\n",
       " 'Angular and papaParse Integration',\n",
       " 'Setup a graylog2 server with elasticsearch in a vagrant machine',\n",
       " '(Solved-See my comment)How to make a password form on tumblr?',\n",
       " 'Javascript: Call a method inside another method',\n",
       " 'aws api gateway client-side ssl certificate verification with nginx',\n",
       " 'Kendo UI drop downs posting arrays',\n",
       " 'ServiceStack Identity on field other than PK - Insert fails',\n",
       " 'Redirection when rendering controller in twig SYMFONY 302',\n",
       " 'CSS Sprites Bottom repeating',\n",
       " 'How can I sort a table of Laravel Eloquent objects by a custom attribute?',\n",
       " 'Comparing elements in a generic list',\n",
       " 'Set minDate for Bootstrap DateTimePicker from another',\n",
       " 'What is the difference between :g and :%s commands in vim',\n",
       " 'Java: creating self extracting jar that can extract parts of itself out of the archive?',\n",
       " 'set html text color and size using javascript',\n",
       " 'Queue using Arrays',\n",
       " 'foreach loop when using Xml.XmlElement in remote scriptblock',\n",
       " 'How to print list of categories and click on each category one by one in selenium/appium?',\n",
       " 'Every now and then, ABCpdf runs out of memory',\n",
       " 'In Spring OAuth2, why is my resource still unprotected even though I have marked it in my resource server?',\n",
       " 'how to restart node application automatically on aws elastic-beanstalk',\n",
       " 'Unresolved external symbol LNK2019',\n",
       " 'Celltemplate in angular-ui-grid is not working properly',\n",
       " 'Escaping backslashes in method call stringByReplacingOccurrencesOfString Does not work in Objective C',\n",
       " 'APEX Data Loading - Add a column programatically',\n",
       " 'MySQL / MariaDB shuts down after exactly 1 minute 42 seconds',\n",
       " 'Mouse movement / mouseover and JavaScript evaluation in watir',\n",
       " 'Removing backslashes from a string in Python',\n",
       " 'Array manipulation (accessing specific bytes)',\n",
       " 'Rails: Does Application.css load all css.scss files?',\n",
       " 'LongListSelector cannot change ItemsSource',\n",
       " 'C# DateTime not recognising timezone change (BST)',\n",
       " 'deinit in child view controllers',\n",
       " 'How to send back to custom class which object of that class was clicked',\n",
       " 'delete from array returning self',\n",
       " 'MS Access Properties',\n",
       " 'UIWebView always add a parameter in url issue',\n",
       " 'comparing two spanned strings in edittext in android',\n",
       " 'Add prefix to control id and still have it bind MVC Razor',\n",
       " 'EXC_BAD_ACCESS when setting Integer to anything else than zero',\n",
       " ':hover CSS is not working?',\n",
       " 'Blowfish last block incomplete in decryption',\n",
       " \"Reading uploaded image: undefined method `file' for nil:NilClass\",\n",
       " 'How can I run IntelliJ IDEA on a remote desktop',\n",
       " 'How to get the JSONObject server response in Volley',\n",
       " 'Guide in organizing large Django projects',\n",
       " 'how to populate a dropdownlist based on another dropdownlist selected value in mvc 4?',\n",
       " 'Azure ServiceBus Token Expired',\n",
       " 'iBatis to MyBatis migration efforts?',\n",
       " 'Where should I look for the document generated using htp package',\n",
       " \"Tortoise SVN Error after update: 'The specified path has an unexpected status'\",\n",
       " 'Extract html data after logging into website from android app',\n",
       " 'Add key value to array without triggering an array',\n",
       " 'How to write this math equation into c++',\n",
       " 'Undefined index php mysql error',\n",
       " 'when text changed inputbox automatically updates next 6 text boxes',\n",
       " 'Unable to get email of facebook user',\n",
       " 'iphone: Facebook logout feature is not work in my app',\n",
       " 'how to force my app NOT to use the 3g data proxy setting',\n",
       " 'Unit Testing - What do you do when your code is pretty much just a calculation (GetHashCode for example)?',\n",
       " \"Status of CheckBox can't be detected\",\n",
       " 'Sort a list with multiple conditions Ruby on Rails',\n",
       " 'How to sharp the text in css3?',\n",
       " 'How to change the class of an object dynamically in C#?',\n",
       " 'Creating an Array with a Default Value,But the default value is changed',\n",
       " 'How to call a delegate\\'s function without getting the \"instance method not found\" warning in ios?',\n",
       " 'Android, background drawable appear black in genymotion but looks fine in intellij',\n",
       " 'Table has no columns using google charts',\n",
       " 'Dropdown list where options populate a second list js/php?',\n",
       " 'difference between <% and <%= ruby',\n",
       " 'How to remove the functionality of changelist filter appearing in django admin?',\n",
       " 'how to unpack stxetx data in python',\n",
       " 'Ansible: playbook calling Role in a directory that is in the roles directory',\n",
       " 'Setting up HTTPS redirects on Heroku Laravel Instance',\n",
       " \"Input helper valueBinding is deprecated - what's the alternative?\",\n",
       " 'Using MySQL.connector with Twisted Python to execute multiple queries',\n",
       " 'MySQL - 1 large table with 100 columns OR split into 5 tables and JOIN',\n",
       " \"neo4j load csv when field name has a '.' in it\",\n",
       " 'Mocha + React: navigator is not defined',\n",
       " 'semantic ui grid - display full width of column, after \"computer only\" columns is hidden',\n",
       " 'populating select menu options using javascript',\n",
       " 'Serializing MongoDB find() return into non-anonymous JSON array, using PyMongo',\n",
       " 'Geom tile white space issue when the x variable is spread unevenly accross facet grids',\n",
       " 'Moving files depending on the profile in a WAR',\n",
       " \"Check if it's the last record in sqldatareader\",\n",
       " 'Assigning to columns in NumPy?',\n",
       " 'Android Facebook ApiException: Invalid Application',\n",
       " 'Django: customizing the message after a successful form save',\n",
       " 'Custom TextBox with built-in Validator: server side validation not firing',\n",
       " 'How to embed mjpeg file on a webpage',\n",
       " 'php delete on jQuery doesnt work',\n",
       " \"AWK doesn't work in Bash Script\",\n",
       " 'Launch specific app when external accessory attached',\n",
       " 'Three Inputs in a Row - Bootstrap 3',\n",
       " 'How compiler like GCC implement acquire/release semantics for std::mutex',\n",
       " 'Framework search for upcoming project',\n",
       " 'Implementing a Web Service Server in Windows CE 2013',\n",
       " 'Why do I keep getting \"The digital signature of the object did not verify\" for Windows JavaEE installer',\n",
       " 'hide paging numbers in gridview?',\n",
       " 'How to remove sublayers from a view afer a touch',\n",
       " 'CUDA: Can i find out if i have global memory coalescence?',\n",
       " 'How to read a google chrome crash dump with windbg',\n",
       " 'jQuery targeting nested list',\n",
       " 'pass the column value when checkbox is clicked in wijmogrid column',\n",
       " \"How to normalize your database in hibernate? (Repeating values don't get saved again and again)\",\n",
       " 'how to stop validation on a particular textbox after hiding this textbox using angularjs',\n",
       " 'opencv imshow with waitKey too slow on Mac OS X 10.10.2 (using c++)',\n",
       " 'Setting an Input Box Background',\n",
       " 'IntelliJ IDEA: \"Element ignore is not allowed here\"',\n",
       " 'Slider does not work in the jQuery Tabs',\n",
       " 'Carrierwave getting image width and height and storing it in an hstore field',\n",
       " 'OpenProcess() succeeds, but EnumProcessModules() fails',\n",
       " 'Django + Forms: Dynamic choices for ChoiceField',\n",
       " 'using Url.Content to display the file content with .net mvc',\n",
       " 'PDO cannot able to fetch image from database',\n",
       " 'error in adding overlay in current location',\n",
       " 'Internal section link fails in beamer output of pandoc markdown',\n",
       " 'Adding ROW_NUMBER() to query loses DISTINCT, defeats the purpose of paged results attempt',\n",
       " 'android studio 135.1339820 launches wrong java version on openSuse 12.3',\n",
       " 'My Facebook object is empty',\n",
       " 'Java code reads UTF-8 text incorrectly',\n",
       " 'PHP session.cookie_secure does not actually set the cookie to secure',\n",
       " 'Using webapp2, how can I get the value of a form\\'s \"name\" attribute during a POST request?',\n",
       " 'Finding Uppercase Character then Adding Space',\n",
       " 'Table data pass into stored procedure as param and insert into another table in mysql',\n",
       " 'Inject entry point class in GWT with GIN',\n",
       " 'How to group by week of the year dates or day dates that start on Sundays in oracle 10?',\n",
       " 'What are the options Some and None SML?',\n",
       " 'Reversing a .mp3 programmatically',\n",
       " 'Convert Associative Array in PHP and insert it to database',\n",
       " 'Why is the \"map\" version of ThreeSum so slow?',\n",
       " 'ant keeps recompiling',\n",
       " 'HttpContext.Current.User.Identity.Name returns blank',\n",
       " 'UIWebView Javascript Window to Window Communication',\n",
       " 'Fluent NHibernate Exception: An association from the table X refers to an unmapped class: System.String',\n",
       " 'Are .NET memcache libraries production ready?',\n",
       " \"DB2 Can't connect to db with new user\",\n",
       " 'Django flatpages backup?',\n",
       " 'Trouble with Creating One-Time Calendar Event from Google Sheet row',\n",
       " 'The colored image turned to have no color and just a grey vector in drawable?',\n",
       " 'how to show pattern in asp-Repeater item template?',\n",
       " 'Fastest scripting language for Java?',\n",
       " 'Tried to reverse engineer my app, but got some weird-looking file tree',\n",
       " 'Startup for bundles placed in the deploy folder of Karaf',\n",
       " 'd3js force layout with hide/unhide on node click misplaces nodes after expanding',\n",
       " 'Unique column definition in SQL',\n",
       " 'Hash of a cell text in Google Spreadsheet',\n",
       " 'How to pin/unpin Microsoft Edge developer tools in Windows 10',\n",
       " 'Which editor can align tables in reStructuredText for Sphinx?',\n",
       " 'How to walk through a directory in c and print all files name and permissions',\n",
       " 'iOS KVC DRY mutation',\n",
       " \"IBM MobileFirst Platform iFix doesn't update the version displayed in Operations Console\",\n",
       " 'relative layout aligning images about right bottom corner',\n",
       " 'How to retrieve a PDF(document) from the Tridion File System and create a multimedia component out of it',\n",
       " 'HTML sends x y POST data with no inputs - how is this possible?',\n",
       " 'How can I view Azure logfiles when running locally?',\n",
       " 'is there a web service client code generator on iOS?',\n",
       " 'Get smallest type to include data range',\n",
       " 'Get dates as check if it is ending',\n",
       " 'Cordova brightness still returns -1',\n",
       " 'How to detect 3 keyboard buttons in Swing?',\n",
       " 'Python calculations in two groups',\n",
       " 'create array from mysql query php',\n",
       " 'TDD vs Defensive Programming',\n",
       " 'Display logo or image in the Ribbon using VSTO',\n",
       " 'How can I get a meaning of a jsp variable in java code on the same page?',\n",
       " 'Conversion of cloud data into 2d image using OpenCV',\n",
       " '[python-suds]Bug? One additional element is created when using Factory',\n",
       " 'Using clang to analyze C++ code',\n",
       " 'Login with email and password control not working',\n",
       " 'ansible: use different logging level for terminal and log file',\n",
       " 'Draggable window with pyqt4',\n",
       " 'dynamically adding edittext depending on the elements of json array',\n",
       " 'How to convert ftp.getModificationTime(file) to readable format',\n",
       " 'PHP Login Form using DashDB',\n",
       " 'Building a properties file to the top level of a WAR file, Spring-MVC/Maven',\n",
       " 'Enabling breakpoints in goclipse',\n",
       " 'error while including external JARs in ant script',\n",
       " 'Comparison of web widgets in flash and javascript',\n",
       " 'Why must I free this data? Am I the owner?',\n",
       " 'Optimizing a very huge mysql table (query or mysql)',\n",
       " 'tlbexp.exe outputs different tlb information on 2012 versus 2010',\n",
       " 'How to create a Facebook Like with a post/comment box',\n",
       " 'Codeigniter PDO integration',\n",
       " 'pass string array as parameter to asp.net mvc webapi method',\n",
       " 'Removing space in dataframe python',\n",
       " 'How to set application identity of an application pool using web administration module in powershell?',\n",
       " 'how to handle play database connection exceptions',\n",
       " 'querydsl 3.3.0 - using collection.any() with elementcollections in a query with N boolean arguments generates N \"exists\" sub-queries',\n",
       " 'Gson: Change the way Map-Keys are being serialized',\n",
       " 'Improving gnuplot 3d plots from data files with pm3d',\n",
       " 'Divide problem',\n",
       " 'Yii2: Using Kartik Depdrop Widget?',\n",
       " 'Can anyone post an example of how to enable SSL in Tsung?',\n",
       " 'MPI_Isend and MPI_Irecv seem to be causing a deadlock',\n",
       " 'Virtual Box port forwarding misery with Ruby Sinatra:4567 / Shotgun:9292',\n",
       " 'Enhancing regex to match more URLs',\n",
       " 'JavaScript classlist selector error',\n",
       " 'My IntelliJ IDEA 11.1.5 lost the ability to debug node.js applications after upgrading to windows 8.1',\n",
       " 'Scientific notation android java',\n",
       " 'How to make a JSON array case insensitive for Twitter Typeahead?',\n",
       " 'Membase can someone explain the idea behind their technology',\n",
       " 'Struts 2 + Dojo + Datetimepicker',\n",
       " 'Cannot retrieve data from find query',\n",
       " 'How long are resources used (file descriptor and memory) for Java temporary files (jar_cache####.tmp)?',\n",
       " 'how to pass a variable in WHERE IN clause of oracle sql?',\n",
       " 'How can I transform the coordinates of a Shapefile?',\n",
       " 'Mapping result of aggregate query to hibernate object',\n",
       " 'Drawing Application how to save drawing in android phone memory',\n",
       " 'Error while using npm install -g generator-jhipster',\n",
       " 'Get abs path from the currently edited file in Eclipse',\n",
       " 'Post form data to foreign aspx form',\n",
       " 'Logging in Azure web jobs',\n",
       " 'MTM with (automated) CodedUITest test-cases developed in VS2013 issues',\n",
       " 'How to print contents of an HTML element in MacGap?',\n",
       " 'ASP.NET Control not available in CodeBehind',\n",
       " 'How can I disable the IIViewDeck functionality momentarily?',\n",
       " 'Why would I create a struct with only a `PhantomData<()>` member?',\n",
       " 'Accessing masterpage properties from child pages in ASP.net VB',\n",
       " 'Bash read inside a loop reading a file',\n",
       " 'Random number between 1 and 20 excluding numbers already picked',\n",
       " 'Wordpress Navigation Label in Browser tab',\n",
       " 'Taking control of the soundCard with JAVA',\n",
       " 'STL containers and large amounts of data',\n",
       " 'Colour in Backorder Products dropdown based on stock in WooCommerce',\n",
       " 'Richfaces - <rich:autocomplete> not showing suggestions',\n",
       " 'How to select and enlarge a Masterpane in Zedgraph',\n",
       " 'react-native android publishing keystore',\n",
       " 'What is a good way to find a specific value in an XML document using C#?',\n",
       " 'Can i make my own Singleton Stateless Bean with EJB 3.0?',\n",
       " 'How does Google App Engine precompile Java?',\n",
       " 'Using dispose() method instead of close() method to a form',\n",
       " 'Spring Oauth2 \"Full authentication is required to access this resource\" with valid access token',\n",
       " 'Why is my code only displaying incorrect even if I have the right answer?',\n",
       " 'Forcing function in ODE',\n",
       " 'Get sum of column on last row, good practice?',\n",
       " 'Simple Karma + Typescript configuration - Reference Error: x is not defined',\n",
       " 'Error building Player because scripts have compile errors in the editor',\n",
       " 'Property Testers do not load despite forcePluginActivation. For popup menu enablement',\n",
       " 'Javascript regex to match last word regardless of specials characters',\n",
       " 'Develop multilangual system',\n",
       " \"angular-mock testing in Karma+Mocha can't find module\",\n",
       " 'How to append an element inside object using a common way',\n",
       " 'Generate random \"dark\" colours only in Java',\n",
       " 'Access element in list using indexes stored in another list',\n",
       " 'How to correctly use setq in elisp?',\n",
       " \"iOS - Today Extension 'show more' & 'show less' state incorrect. Collapsed says 'show less' - requiring multipule presses to fix\",\n",
       " 'how to get the position of the cursor in an editable div',\n",
       " 'flickering of image in SWT',\n",
       " 'Completely random identifier of a given length',\n",
       " 'Angular 2 Render Flat List from Hierarchal Data',\n",
       " 'Java RMI threads on client-side are executing sequentially or concurrently when calling the same remote object?',\n",
       " 'Variable-size buffer for receiving UDP packets',\n",
       " 'CreateSqlQuery on entity with formula property',\n",
       " 'Datepicker TIMESTAMP divide by 100',\n",
       " 'how to print out the whole table using anonymous block in pl sql?',\n",
       " 'In Sentora i will need to integrate a clamav Module',\n",
       " 'how do i set a value of a multiple <select> tag from the database',\n",
       " 'show decimal value in C#',\n",
       " 'Javascript: how to affect other element when hovering?',\n",
       " 'Creating new popup window when click button',\n",
       " 'How to Depict Either/Or Inheritance in a UML diagram?',\n",
       " 'Ajax post success data: Can you separate results?',\n",
       " 'Document.getElementById() not available for ChromiumWebBrowser in visual studio',\n",
       " 'target of assignment expands to non-language object',\n",
       " 'How do I configure distributed transactions for NServiceBus',\n",
       " 'How to combine an array of png images like layers using C#?',\n",
       " \"yii2 gii CRUD Generator error - Class 'Message' does not exist or has syntax error\",\n",
       " 'Get values of checkbox to other page',\n",
       " 'Session on subdomains still not working',\n",
       " 'How can I turn off host name resolutios?',\n",
       " 'syntax error, unexpected end-of-input',\n",
       " 'Erlang: \"extending\" an existing module with new functions',\n",
       " 'tcl string replacement',\n",
       " 'how to access directory in plesk (control panel )',\n",
       " 'Minimizing the sum of a special function over a list',\n",
       " 'VB.Net & Access - Set two foreign keys, that refer to the same table/field',\n",
       " 'Memory Monitoring Tool for Erlang Threads',\n",
       " 'Disable Spring Boot Security @Secured at runtime',\n",
       " 'Join two tables on the same date or closest date (before or after)',\n",
       " 'Power Point viewer asp.net mvc',\n",
       " 'Swift: Get an element from a tuple',\n",
       " 'images rotation to the right',\n",
       " 'Can I access the visual voicemail files on the iphone thru the SDK?',\n",
       " 'Proximity alert for locations saved at server',\n",
       " 'Tableviewcell button',\n",
       " 'Angularjs select does not mark matching model as selected',\n",
       " 'How can i use id to do action on an object of an android using Robotium tool?',\n",
       " 'How can i pass a value to constructors of collection of instances at runtime with simple injector?',\n",
       " 'Large binary shifts in 8086 assembly?',\n",
       " 'Directshow, format type change filter',\n",
       " 'How to open model window on option selection?',\n",
       " 'Update value in sqlite iphone sdk',\n",
       " 'Installing ADT plugin in Eclipse for Android development',\n",
       " 'Automating a ContextMenu with Watin',\n",
       " 'how to evaluate the performance of any cryptographic algorithm (say elliptic curve)?',\n",
       " 'Nth-child Selector with Prototype',\n",
       " 'Difference in performance of compiled accelerate code ran from ghci and shell',\n",
       " 'Database design for email messaging system',\n",
       " 'Java SE Development Kit 8u20 Install Options',\n",
       " 'Reading a file in chunks',\n",
       " 'Twitter style Web Application based on LAMP, Symfony2, Backbone : possible?',\n",
       " 'Regexp for C preprocessor command',\n",
       " 'Cmposition, I dont quite get this?',\n",
       " 'CakePHP form submits the \"array\"',\n",
       " 'Store feed forward network in mongodb',\n",
       " 'bash read strings and output as one key and multiple values',\n",
       " 'http client in python fails to recive',\n",
       " 'Dynamic languages - which one should I choose?',\n",
       " 'How to start an IntentService from a WakefulBroadcastReceiver',\n",
       " 'C++: Converting wstring to unsigned char',\n",
       " 'How to make echo interpret backslash escapes and not print a trailing newline?',\n",
       " 'AngularJS.. http.get working, when splitting into its own service module its no longer working',\n",
       " 'How do I determine the number of elements in an array reference?',\n",
       " '\"TypeError: \\'NoneType\\' object is not iterable\" on what should be a list',\n",
       " 'Replace random image on website',\n",
       " 'Rotation matrix between two camera system',\n",
       " 'Animated border which wraps around',\n",
       " 'cron job not picking up oracle query result',\n",
       " 'Formview and MS-Ajax UpdatePanel',\n",
       " 'How to update data with TreeStore or TreeEditor component?',\n",
       " 'Get kwargs passed to url_for in Flask view',\n",
       " 'how to reload the template when working with enlive without restar',\n",
       " 'Thread-safe get (accessor method)',\n",
       " 'How can I tell if \"inline\" worked?',\n",
       " 'calling some logic before user is logged out using spring security?',\n",
       " 'Java pattern to find two groups of two letters in `ABC`',\n",
       " 'MYSQL distincs entry of two columns even when switched',\n",
       " 'How Antlr creates tokens',\n",
       " 'Play Framework 2.4 - Java - Http header and cached response',\n",
       " 'List of Strings in a Grails domain class',\n",
       " 'Insert into MongoDB via Node.js',\n",
       " 'How to stop or pause Pandora and Spotify',\n",
       " 'Oracle Function: Replicate wm_concat',\n",
       " 'Return user to previous page after login (Rails)',\n",
       " 'Custom Layout Manager using predefined and developer-defined child view(s)',\n",
       " 'In Ruby, how do I specify a file in another directory as an input?',\n",
       " 'Unable to read View Bag value from controller to view',\n",
       " 'Parameters on time stamps in oracle sql developer',\n",
       " 'measuring the time to load a page - Python',\n",
       " 'Set height of child to height of parent',\n",
       " 'How can I find the element that caused another element to fire the focusout event?',\n",
       " 'How to get the latest created table in MySQL?',\n",
       " 'Better way to reference $scope in AngularJS',\n",
       " 'Sharing data between Elastic Beanstalk web and worker tiers',\n",
       " 'iOS certificate pinning with Swift and NSURLSession',\n",
       " 'Sharing UDP Data across apps (background/foreground or Split screen multitasking) in iOS',\n",
       " 'iPhone: Facebook logout feature does not working',\n",
       " 'AutoHotKey. Hotstrings and Auto-replace not working in Visual Studio 2008',\n",
       " 'Issue setting up Android SDK - Failed to Start Emulator',\n",
       " 'Why is the dismissable alert not being dismissed?',\n",
       " 'Error while executing change data capture sql query',\n",
       " 'multiple queries - Route.get() requires callback functions but got a [object Undefined]',\n",
       " 'How to attach custom element to shadow DOM in html web components in a secure way?',\n",
       " \"flash javascript don't work (Second try)\",\n",
       " 'How do EGit versions map to Git versions',\n",
       " 'How the ftp uploads works in PHP?',\n",
       " 'Sql XML to Delphi',\n",
       " 'Lookup table with the query with arbitrary length without using a for loop in R',\n",
       " 'C# XML deserialization XmlAttribute',\n",
       " 'CSS, JQuery: Animated transform from 3 lines menu to cross',\n",
       " 'Can m2e install an external jar file? Or do I need to install the maven command line tool?',\n",
       " 'Does gSOAP RESTful implementation require the definition of a WSDL',\n",
       " 'Automatically create an appointment in Outlook using message content',\n",
       " 'JSoup error: java.lang.IllegalArgumentException',\n",
       " 'Add Button to CMS_Page_Edit via Observer',\n",
       " 'How to do an XOR of the binary forms of all integer items in a list',\n",
       " 'How to add regularization in Scipy Linear Programming (Non-negative Least-Squares)',\n",
       " 'Highlight backgroung colors of some words in HTML Document in java',\n",
       " 'Is there a way to retrieve process stats using Perl or Python?',\n",
       " 'Excel NamedRange.Find Method with Regex pattern match in C#',\n",
       " 'cmake error when configuring',\n",
       " 'How to set first column to a constant value of an empty np.zeros numPy matrix?',\n",
       " 'Eclipse Plugin - get Launch Configurations Tree List in a Dialog.',\n",
       " 'What are the RESTful best practices on defining a query parameter with an or condition?',\n",
       " 'Extracting text from the input field - using Webdriver',\n",
       " 'One <hr> tag is working but not the other in Firefox. Why is that?',\n",
       " 'ajax request xml from php',\n",
       " 'Embedded Java server using Grizzly: How do you enable http2',\n",
       " 'Finding Minimum Completion Time of Scheduled Tasks with Topological Sort',\n",
       " 'How to set jQuery draggable min/max-left and min/max-right',\n",
       " 'semantic-ui modal size keeps extending to the height of a page',\n",
       " 'Is there any direct git command to push changes to another branch',\n",
       " 'How and is it worth to integrate Java Webapp + drools + Guvnor?',\n",
       " 'How to debug Error Messsage in Odoo',\n",
       " 'calculate differences between two numbers',\n",
       " 'Data constructor in template haskell',\n",
       " 'Tying composer.json to a specific Laravel 5 SHA',\n",
       " 'Django 1.7.1 requires a Default value for field - but no entry is in database. Why?',\n",
       " 'addEntriesFromDictionary: a true copy method?',\n",
       " 'Spring Boot OAuth2 with encrypted JWT access token',\n",
       " 'Wrap text if it is longer than max_characters',\n",
       " 'iptables: Duplicating/Forwarding ports',\n",
       " 'Multiple custom fields stored as meta_keys, how to connect with the post?',\n",
       " 'Android GridView crashes or is very slow on some devices (Samsung Galaxy S4, S3)',\n",
       " 'HTML/CSS: Input element weird indent ie7',\n",
       " 'What exactly does Double mean in java?',\n",
       " 'Most effective ways to extract Android Cursor (sqlite) into an array to be used in AlertDialog.Builder?',\n",
       " 'jenkins can not find android SDK',\n",
       " 'Can I open a new window and change the DOM of the calling window in JavaScript?',\n",
       " 'dynamically Change Itemized overlay draw circle using seek bar progress',\n",
       " 'How do I fix django.db.utils.IntegrityError: duplicate key value violates unique constraint?',\n",
       " 'Inno Setup not creating registry entry in Software/Microsoft/Windows/CurrentVersion/Uninstall',\n",
       " 'build from hadoop source code in centos',\n",
       " 'C# LinqToSql SubmitChanges() does not update, even though PK is set',\n",
       " 'How to read utf16 text file to string in golang?',\n",
       " 'Objective C ePub framework',\n",
       " 'Reducer output to different files based on keys',\n",
       " \"Is it possible for a Chrome Extension to get a user's full browsing history?\",\n",
       " 'Variable Number of Nested For Loops',\n",
       " 'Ordered http request parameters',\n",
       " 'Testing the Oracle to_date function',\n",
       " 'Getting the error of POST method from another PHP file',\n",
       " 'Multiple selection of worksheets into one workbook copy paste of content into one main sheet',\n",
       " 'Why do I keep getting \"developer inactive\" errors when calling the Beats Music API?',\n",
       " \"My select command doesn't work\",\n",
       " 'node js read files line by line',\n",
       " 'PHPStorm/Webstorm increase memory to more than 512MB',\n",
       " 'Want to open google.com at specific location and make it specific window size',\n",
       " 'Database not updating new row',\n",
       " 'Spring suite tools start error - spring boot',\n",
       " 'Slider in codenameone',\n",
       " 'Issue with $(this) and toggle() multiple classes',\n",
       " 'How to load file from dir using Racket?',\n",
       " 'Removing quotation mark using javascript does not remove single quotation marks',\n",
       " 'Firebase Android ChildEventListener Triggered onChildRemoved() before onChildAdded() When new data added',\n",
       " 'Python. Error using animation.FuncAnimation',\n",
       " 'How to make inline comments in Org-mode?',\n",
       " 'Find years with distinct digits - CCC 2013',\n",
       " 'Identify customer visits occurring after a given time period in mysql',\n",
       " 'Finding the distinct count from a cassandra column using Tableau',\n",
       " 'Prism : Change the active view',\n",
       " 'Get Color from int',\n",
       " 'Dynamic subversion repos via subdomains (in Apache)',\n",
       " 'How to multithread my for loop in Python',\n",
       " 'How to get recycler view list item count using Espresso',\n",
       " 'How to PIVOT and calculating column average',\n",
       " 'Fastest way to separate the digits of an int into an array in .NET?',\n",
       " 'Escaping special characters in SphinxSE',\n",
       " 'Importing sqlite file into r',\n",
       " 'Sort order of related products not working in Magento 1.6',\n",
       " \"Display 404 not found template for 'slugs' when publication returns empty cursor - Meteor - iron-router\",\n",
       " 'Is there a way to tell if an object has implemented ToString explicitly in c#',\n",
       " 'VFS: file-max limit 1231582 reached',\n",
       " 'Play 2.2 EssentialAction With Futures',\n",
       " 'AppBarLayout / CollapsingToolbarLayout expands indefinitely',\n",
       " 'how to deselect all Radio Button in Radio ButtonGroup on button click in flash as3?',\n",
       " 'numpy array creating with a sequence',\n",
       " 'Sed: Matching words with any permutation of two characters',\n",
       " 'Make Child element appear outside of parent',\n",
       " \"MobilePin createuserwizard doesn't work?\",\n",
       " 'Fit Image in canvas using WPF',\n",
       " 'Adding a fontawesome icon with border into form input',\n",
       " 'finding pixel location of Listview item seems to return wrong value',\n",
       " 'sails 0.9.8 not work, when created controller and lift it',\n",
       " 'Larave File not found at path but it does exist',\n",
       " 'RequiredFieldValidator causes validation on Server even if validator is disabled(CausesValidation=\"false\")',\n",
       " 'Retrieving HTML content from a page requiring authentication using PHP',\n",
       " 'How to generate linked-axis in matplotlib',\n",
       " 'Print % sign with string formatting',\n",
       " 'How to calculate the dimensions of the monitor in PyQt4/Windows/Linux?',\n",
       " 'VBA Outlook 2010 retrieving information from Active Directory',\n",
       " 'Modifying bootstrap thumbnails',\n",
       " \"ASP.Net: What's keeping old AppDomains alive?\",\n",
       " 'A library uses the same package as this project after importing Facebook SDK',\n",
       " 'Unable to run compiled .classes from the command line',\n",
       " 'Is it possible to partially decode and update JSON? (go)',\n",
       " 'How to use Apache-Commons DBCP with EclipseLink JPA and Tomcat 7.x',\n",
       " 'How to do batch geocoding using google-maps-services-java',\n",
       " 'Inserting an img into a text field (html, css)',\n",
       " 'NoClassDefFoundError during Tomcat graceful shutdown',\n",
       " 'Indesign (IDML file) Automation using HTML5 and Javascript',\n",
       " 'Writing to the ObjectOutputStream and getting rubbish back',\n",
       " 'How do I stop md-cards from stretching images to full vertical height?',\n",
       " 'SQL, missing end, but why?',\n",
       " 'SED - Search two pattern in a line and insert few word at the end of the line if pattern match is found',\n",
       " 'How to configure & run multiple websites with respective databases with single Laravel code instance',\n",
       " 'three.js CanvasRenderer - setting initial color for object together with transparency textures',\n",
       " 'IHTMLDocument2 - click button inside iframe',\n",
       " \"Resource 1 works, 2 doesn't\",\n",
       " 'how to show an image in an image field by a button click event in c# asp.net',\n",
       " 'How to use this for killing array of threads?',\n",
       " 'MVC scaffolding does not support Entity Framework 6 or later',\n",
       " 'Parse error using Remotipart',\n",
       " 'JAVA JAX-WS Deployment (JAVA Eclipse EE IDE)',\n",
       " 'kaminari and order_by',\n",
       " 'multisampling and fragment shader',\n",
       " 'C program- change char order in sentence',\n",
       " 'How to reload an IFrame every x seconds?',\n",
       " 'EF6 table per hierarchy, with unique index on derived property',\n",
       " 'Shell Script to add extension on file and directory',\n",
       " 'Absolute beginners guide to working with audio in C/C++?',\n",
       " 'Extract part of string',\n",
       " 'stopping toast android in other actvity',\n",
       " 'Client-side SSL not working with AWS API Gateway',\n",
       " 'Top Left Menu Bar Is Frozen when Main Window Shows Up',\n",
       " 'Category Axis Label Alignment for Multi Series bar chart in JAsper',\n",
       " 'Invalid Label - jQuery Ajax/Json request',\n",
       " 'Optimizing Haskell Recursive Lists',\n",
       " 'Symfony3: Service not able to get arguments',\n",
       " 'Reverse Geocoding not displaying info window on markers when clicked',\n",
       " 'How to restrict background click in Ionic confirmation popup',\n",
       " 'how to use CSPARQL-ReadyToGoPack-0.9 in a SBT project',\n",
       " 'How to sort UTF-8 lines in Vim?',\n",
       " 'How to handle NotFoundException elegantly in Neo4j 2.0?',\n",
       " 'Download multiple files simultaneously with PHP - Forking, Sockets',\n",
       " 'Submit form on one server, process it and then post results to another domain',\n",
       " 'Flyway Mysql multiline comment directive not parsed',\n",
       " 'Non-Blocking File Reads',\n",
       " 'ORACLE sql dynamic variables in stored procedure',\n",
       " 'nested ngFor with two data classes in angular2',\n",
       " 'Crossplatform webview in Qt5.6',\n",
       " 'Set the default encoding to UTF-8 for all JSPs without using @page directives',\n",
       " 'XSLT creating a table with varying amount of columns',\n",
       " 'how to send email with powershell',\n",
       " 'Asynchronous method using .Result',\n",
       " 'Is JENKINS Extensible Choice Parameter compatible with linux?',\n",
       " 'Starting Speech Recognition with CreateProcess() in C++',\n",
       " 'How do I animate adding subviews?',\n",
       " 'How can I change the default font for a Jekyll website',\n",
       " 'Impossible to compile Fortran code with include statement',\n",
       " 'Lazy loading images in Vue/Laravel',\n",
       " 'Web API read header value in controller constructor',\n",
       " 'Android wear WearableListView ImageView selector',\n",
       " 'Function pack() returns 0',\n",
       " 'Is it possible to have Firebase authentication via Facebook in a Phonegap App?',\n",
       " 'PHP Export MySQL to CSV - Results showing HTML',\n",
       " 'How to detect language preference in Laravel 5',\n",
       " 'VB WebBrowser click button',\n",
       " 'Reports using java collections',\n",
       " 'How to write all files Contain in the subfolders and in the folders in to a .txt file',\n",
       " 'Checking negative values from Google Forms',\n",
       " 'Libgdx reading json array values',\n",
       " 'Custom Buddypress Notification on Post Save',\n",
       " 'UITableView with UITextField - keep the data even after user scrolls',\n",
       " 'Visual Studio 2015 Update 1 automatically checks in files',\n",
       " 'Mobilefirst Failed synchronizing application from the administration service',\n",
       " 'Cannot execute for loop in vue.js',\n",
       " 'how to prevent duplicate item',\n",
       " 'Java Apache CLI OptionBuilder not working as Builder pattern',\n",
       " \"What's a proper way to turn off genymotion emulator?\",\n",
       " 'Jade select field populating data',\n",
       " \"Why is ' 2' > '10'?\",\n",
       " 'Mysql dump comments directives and simple comments',\n",
       " 'Cropping library not working on Nexus S',\n",
       " 'Create a segue and attach it between two view controllers through Swift?',\n",
       " 'Function to search recursively for patterns in vim',\n",
       " 'Integrating wordpress and laravel user management',\n",
       " 'Behaviour after takePicture() different on different devices/Android versions',\n",
       " 'Exporting Plone content: how to get the tarball created by quintagroup.transmogrifier.writer',\n",
       " 'Cassandra to Hive using Spark',\n",
       " 'Ruby on Rails :before_filter => :only_when_user_is_logged_in',\n",
       " 'How can I integrate Jacoco reports with SonarQube without using maven?',\n",
       " 'Can I use NSPredicate as key in a NSDictionary',\n",
       " 'Proxy Authentication Failed error',\n",
       " 'Could someone explain how to use the UpdateManager in TideSDK 1.3.1 Beta?',\n",
       " 'Properties - how to avoid code repetition',\n",
       " 'Pause/resume video recording using AVCaptureMovieFileOutput',\n",
       " 'Swift enum recursive associated value',\n",
       " 'How to grep particular string occurring multiple times',\n",
       " 'Hover map area sprite with jquery',\n",
       " 'Spark `LiveListenerBus` Exception is freaking me out',\n",
       " 'how to use pyplot.arrow or patches.Arrow in matplotlib?',\n",
       " 'Apache on Windows and Fiddler',\n",
       " 'how to pass the variable from api gateway to the url of another service running on EC2',\n",
       " 'Open link when doubleclicking on table row with jQuery',\n",
       " 'Wget span host only for images/stylesheets/javascript but not links',\n",
       " 'I am trying to show data using api . but data is not showing in custom listView . list is empty',\n",
       " \"Graphing sbt's incremental compilation logic\",\n",
       " 'how to get functionality of Long Press gesture in ios ver below 3.2',\n",
       " 'Change priority headings for a task with the api',\n",
       " 'Get values on a row based on two or more rows in Excel',\n",
       " 'Is using Silverlight a hindrance for Startups?',\n",
       " 'spotify session callback get_audio_buffer_stats',\n",
       " 'talend - specify jndi as datasource',\n",
       " 'Long data load time in Matlab',\n",
       " 'how can i change column width in base to content with vb.net and bootstrap?',\n",
       " 'Alternative to Microsoft.Practices.EnterpriseLibrary.Data',\n",
       " 'How to facet.pivot with spring-data-solr',\n",
       " 'Check empty output from fish function',\n",
       " 'pysolr update document with error',\n",
       " 'How to retrieve same column twice with different values of other column in same table',\n",
       " 'Updated: NodeJS - connect-keycloak middleware empty response error',\n",
       " 'Accordion open when page loads',\n",
       " \"Activity doesn't refresh after associated Broadcast Receiver's onReceive gets called.\",\n",
       " 'How do you detect DOCTYPE (Transitional or Strict) server-side in ASP.NET?',\n",
       " 'Firefox 9.0.1 Broke Internal Wiki Layout',\n",
       " 'onchange function in dropDownList yii2',\n",
       " 'play mp3 without default player',\n",
       " 'Convert SVG Data to SVG File that can be uploaded',\n",
       " 'Folder Picker for MS Word',\n",
       " \"Can't hide or close form after switching to another form\",\n",
       " 'How to ShellCode in linux with x64 processor.',\n",
       " 'How to set a specific timezone for windows CE By C#',\n",
       " 'Vagrant enters aborted state during apt-get update',\n",
       " \"attempting to make enter button 'clickable'\",\n",
       " 'ImageMagick Convert not generating correct color',\n",
       " 'Mybatis select with nested objects',\n",
       " \"My css height auto doesn't work\",\n",
       " 'D3 AngularJs Force Directed Graph',\n",
       " 'I want to add 30 days to mysql date row',\n",
       " 'How I can use FlexyPool with HikariCPFactory?',\n",
       " 'Wix installer: Verify that you have sufficient privileges to start system services',\n",
       " 'r, ts - error in stl, series has less than two periods (erroneous?)',\n",
       " 'typo3 - Adding content to the footer',\n",
       " 'Knockout re render template with new data model on change event of dropdown menu',\n",
       " '@ManyToMany relation not save',\n",
       " 'Downsampling of fMRI image with FSL',\n",
       " 'How to use Android AutoCompleteTextView on Xamarin.Forms',\n",
       " 'Why fstream::tellg() return value is enlarged by the number of newlines in the input text file, when file is formated for Windows (\\\\r\\\\n)?',\n",
       " 'Determine If Two Points Are Near',\n",
       " 'clicking logo on home page breaks navigation menu on mobile site',\n",
       " 'Use Iframe to embed csv and allow user to search from it',\n",
       " 'Install Chrome extension through windows registry',\n",
       " 'Display message on success does not work',\n",
       " 'jQuery masked input - format date as m/d/yyyy or m/dd/yyyy or mm/dd/yyyy or mm/d/yyyy',\n",
       " 'How to change spring session (redis) cookie name?',\n",
       " 'Any tool to suggest unit reference automatically for Delphi 2010?',\n",
       " 'Why does my method return a null password?',\n",
       " 'SQL Script - manipulate value based on previous non zero value',\n",
       " 'rotate image shows \"Out of memory\" exception',\n",
       " 'count button clicks',\n",
       " 'Joomla Custom Compoment Dev Env : Hot Deployment',\n",
       " 'Nexus 5 not showing on connected devices',\n",
       " 'How work the method TrueForAll? C# LINQ',\n",
       " 'PHP - Simplest Way to Post & Display',\n",
       " 'Update Temp Table with Group By',\n",
       " 'How to use Parse Push with Cordova, Appcelerator, etc',\n",
       " 'AS3 bitmapdata send to server picture is small in upperleft corner',\n",
       " 'How to set the Z order index for adorner in WPF',\n",
       " 'php microseconds',\n",
       " 'Creating a global database connection on an mdi form',\n",
       " 'Uncaught ReferenceError: React is not defined',\n",
       " 'VBA search column for strings and copy row to new worksheet',\n",
       " 'How can I record a test using Espresso without doing a clean install?',\n",
       " 'How can I char array in reverse order?',\n",
       " 'What kind of SCTP support is there on various Windows versions?',\n",
       " 'Saving changes to an EC2 instance without having to register an AMI each time?',\n",
       " 'Auto run Jetty on boot',\n",
       " 'How To Cache jQuery Template In Backbone View via Ajax?',\n",
       " 'Does this C++ static analysis rule make sense as is?',\n",
       " 'Same Ripple drawable(effect) appearing differently on ListView and RecyclerView',\n",
       " 'R ggplot2 assigning colours to a factor',\n",
       " 'Verifying a method was called without using IoC',\n",
       " \"What is 'seg cs' in bootsect.s\",\n",
       " 'setTimeout keeps firing',\n",
       " 'Formatting the way a string is entered into my database',\n",
       " 'Creating Jenkins Job using python API',\n",
       " 'python create single thread to do one task then quit',\n",
       " 'z order in issue in ConstraintLayout Android',\n",
       " 'Can I derive from a class that can only be created by a \"factory\"?',\n",
       " 'PHP OOP :: passing session key between classes',\n",
       " 'ASP.NET MVC 3, SQL Server',\n",
       " 'Recreating or deleting google services json',\n",
       " 'Probe problem when writing a I2C device driver',\n",
       " 'Jersey produce duplicate log messages',\n",
       " 'Exit / stop Array2D.initBased early',\n",
       " 'how to set array of date to fireDate in local notification at a time',\n",
       " 'alternative to async: false ajax',\n",
       " 'Oracle: how to get percent of total by a query?',\n",
       " 'How to match the recursive pattern `a(?R)b` including another string e.g. \"test{aaabbb}\"? (Regex)',\n",
       " 'How to disable GestureListener?',\n",
       " 'How to specify Code Style settings in a Qt Creator `.pro.shared` file?',\n",
       " 'cal extension template modification with .tmpl',\n",
       " 'Getting started with Groovy/Grails?',\n",
       " \"Opening a Ruby program's source file in the default editor\",\n",
       " 'How can I pass an array of Guid via Web API?',\n",
       " 'Backbone-Relational find or load?',\n",
       " \"what's the best way to format an xml string in ruby?\",\n",
       " 'Partial classes in Google Closure?',\n",
       " 'Add a repository in AccountController',\n",
       " 'Wikipedia API Autocomplete with Json',\n",
       " 'Apache Pig: unable to run my own pig.jar and pig-withouthadoop.jar',\n",
       " 'Optimizing list comprehension to find pairs of co-prime numbers',\n",
       " 'kivy access child id',\n",
       " 'Stucture values not staying, values changed to -858993460',\n",
       " 'Set toolbar title',\n",
       " 'How to add a row to a table using swt',\n",
       " 'jQuery ui selectmenu vertical position offset (relatively to buttons in this line)',\n",
       " 'SSIS : Warning: Failed to decrypt an encrypted XML node',\n",
       " 'gps not getting user location',\n",
       " 'Exporting a simple model with texture from Blender to three.js',\n",
       " 'Postman - Required MultipartFile parameter is not present - Spring, Java',\n",
       " 'Prevent akka actor from restarting child actor',\n",
       " 'UITableView not loaded',\n",
       " 'NTFS permission with modify date',\n",
       " 'QTreeView - how to tell if a drag/drop event is a reorder or a move between parents?',\n",
       " 'Prevent XUL notificationBox from closing when button is hit',\n",
       " 'Code not working. Notification that should go off once a day',\n",
       " 'Android Action Bar Button does not show up',\n",
       " '$.widget is not a function',\n",
       " 'jquery hide not taking parameter',\n",
       " \"How can i use a one form/table for multiple MVC's?\",\n",
       " 'MSTest: execution order of tests within the same TestClass',\n",
       " 'How to call jQuery function in HTML returned by AJAX',\n",
       " 'OAuth2 security considerations for client_id',\n",
       " 'Google Compute Instance 100% CPU Utilisation',\n",
       " 'Incompatible block pointer type when returning array?',\n",
       " 'Calling a REST api with an encrypted PEM client certificate',\n",
       " 'Select all objects in a list',\n",
       " 'Drag and insert div into another div',\n",
       " 'How to prevent firefox from scrolling to the bottom of the page when a large popup is opened',\n",
       " 'How to handle ((List<string>)Session.Add(\"\")',\n",
       " 'mysql inserting into 2 tables at once that have primary key and foreign key',\n",
       " \"What's the right way to remove multiple items from a QTableWidget?\",\n",
       " \"When MSTest fails in TestInitialize, why doesn't TestCleanup get executed?\",\n",
       " 'PHP CodeIgniter application not opening any page except default controller',\n",
       " 'Parsing JSON data without quotes with jQuery',\n",
       " 'Rewrite url in .htaccess',\n",
       " 'I/O error(socket error): [Errno 111] Connection refused',\n",
       " 'Git Error; RPC failed; result=22, HTTP code = 401',\n",
       " 'TFS 2010 - Set the State field to a certain value',\n",
       " 'ActionScript 3.0 How to create ProgressEvent instances in for loop with multiple files loaded from XML',\n",
       " 'how can i extract my query to find average',\n",
       " 'C# Windows Service - Default Arguments on Install',\n",
       " 'Upload large files with node js',\n",
       " 'Changing table headers in cakephp',\n",
       " 'hello world with JMS on Glassfish',\n",
       " 'Countdown timer using DateTime.Parse without defined date',\n",
       " \"Images in the 'drawable' folder are resized automatically?\",\n",
       " 'Find files with the same size and dellete all duplicates except the one has the shortest name using shell script',\n",
       " 'Writing Rules both in Firebase and in your Code',\n",
       " 'Search for words with specific starts and endings',\n",
       " 'Install Neo4j 3.0+ as a windows service',\n",
       " 'PHP convert 2 digit year to a 4 digit year',\n",
       " 'JSDoc auto-complete documentation in Eclipse is not working for Class.create()',\n",
       " 'Split a infix String to an array of String in java',\n",
       " 'Folder permissions in Azure web sites',\n",
       " 'Only have separators between UITableViewCells',\n",
       " 'Uncaught Syntax error, unrecognized expression: [object Object]',\n",
       " 'Need htaccess redirection',\n",
       " 'How to create this bootstrap carousel of iframes?',\n",
       " 'Doctrine2 - Get entity ID before flush',\n",
       " 'Xquery help sorted parent child relationship',\n",
       " 'How To Load Separate Pages In Android Gridview While Clicking Blocks or Items?',\n",
       " 'kineticjs rect fillText',\n",
       " 'is a query string with a / in it valid?',\n",
       " 'How to convert the BYTEARRAYS to NSString in objective -c',\n",
       " 'why is std::chrono::duration based on seconds',\n",
       " 'WCF REST Client Exception',\n",
       " 'Using UIBinder to create a Widget to go into a Dialog',\n",
       " 'OneDrive for Business :\"invalid_request\",\"error_description\":\"AADSTS90014: The request body must contain the following parameter: \\'grant_type',\n",
       " 'Are the any options for interfacing with the command prompt process from a .NET application other than the standard IO?',\n",
       " 'Adding data in the database using microsoft access and OleDb in C#',\n",
       " 'jQuery Ajax header not being passed',\n",
       " 'AngularJS: Multiple views with routing without losing scope',\n",
       " 'BackboneJS How to merge collections',\n",
       " 'Specflow :Could not load file or assembly TechTalk.SpecFlow, Version=2.2.0.0',\n",
       " 'Max byte calculated by System.Runtime.InteropServices.Marshal.SizeOf()',\n",
       " 'How can my application retrieve custom fields from a DocuSign transaction?',\n",
       " 'add active state to button in a button group',\n",
       " 'How to define clear range for pixel color',\n",
       " 'Roslyn VisualBasic.ScriptEngine doesnt recognize hostObject written on C#',\n",
       " \"Neither BindingResult nor plain target object for bean name 'categoryOptions' available as request attribute\",\n",
       " 'How to change Wicket behaviour on Page Expired',\n",
       " 'PHPUnit code coverage show 0% coverage',\n",
       " 'How to prove code correctness lemmas with the \"undefined\" constant',\n",
       " 'Visual Studio has insufficient privileges to debug this process. To debug this process, Visual Studio must be run as an administrator',\n",
       " 'WebApi EntitySetController using composite keys',\n",
       " 'How do I set up an OpenGL project using XCode 4.2 in C++?',\n",
       " 'Initialize static NSString at class level',\n",
       " 'Rich Text Editor inside Flux Form',\n",
       " 'Setting $PATH in xampp osx',\n",
       " 'How to extract data from html using PHP',\n",
       " 'How to get Current location using MapModule?',\n",
       " 'Excel VBA Syntax Errors & Compiling Issues',\n",
       " 'How to read Logback configuration file from path outside the war file?',\n",
       " 'jQuery ajax not getting every div elements',\n",
       " 'TCP Socket on JAVA - Any byte >= 128 is received as 65533',\n",
       " 'SqlBulkCopy keeps on throwing connection forcibly closed exception',\n",
       " 'Error sending to the following VALID addresses Jenkins',\n",
       " 'How to determine if a text has balanced delimiters?',\n",
       " 'How to flick through a deck of cards?',\n",
       " 'Selecting in SQLite Database Android',\n",
       " \"TSQL merge Incorrect syntax near ','\",\n",
       " 'Building Pocketsphinx On Android on Windows',\n",
       " 'Add background image in a div without empty space between div and footer',\n",
       " 'Include github project into wordpress plugin',\n",
       " 'django multivaluefield & multiwidget - compress and/or decompress not working',\n",
       " 'Android : Can i call my onresume() inside onpause().?',\n",
       " 'How to fit picture to absolute positioning modal window?',\n",
       " 'Redirect URL to PHP only if file does not exist with Nginx',\n",
       " 'Laravel 4 Exception: NotFoundHttpException',\n",
       " 'How To Start Using Kostache?',\n",
       " 'Assigned access application exits when Ctrl + Alt + Delete is pressed.',\n",
       " 'Circular dependency error when running migrations in Django 1.7c2',\n",
       " 'JavaFX setOnShown fires before window is visible',\n",
       " 'Flash Develop - Publishing',\n",
       " 'I want to use the variable I declared somewhere else but I cannot (simple sql query)',\n",
       " 'buttons are not displayed',\n",
       " 'Prevent Twitter responsive layout from collapsing when width < 320px',\n",
       " 'Show azure cost analysis data using Azure billing API/SDK',\n",
       " 'find the field names from a search query',\n",
       " 'OAuth 2.0 OpenID Connect Loopback and Keycloak',\n",
       " 'Windows Phone: How to retrieve the same photo from media library between application instances',\n",
       " 'Symfony2: determine if a controller is called from a development environment or from a production environment',\n",
       " 'When UITableView is fully reloaded',\n",
       " 'http.post(url, postData, options) does not set header',\n",
       " 'JSON stringify outputs empty object for not empty object',\n",
       " 'Display.syncExec not working inside Callable',\n",
       " 'XPath to first occurrence of element with text length >= 200 characters',\n",
       " 'Unable to push a docker image to local OpenShift Origin registry',\n",
       " 'SlideDown() using JavaScript not working as intended',\n",
       " 'Threading.Tasks Dispose meaning issue',\n",
       " 'VAL() function in JavaScript',\n",
       " 'Using php to send form to my email..Having an issue with 405 Not Allowed when form is submitted',\n",
       " 'Netty closeFuture().sync().channel(); blocks rest api',\n",
       " 'How to check if a specific button exists in Scrapy?',\n",
       " 'Remove logs from ORMLite Android',\n",
       " 'Language detection API/Library',\n",
       " 'Should I make 1 form for each upvote button or 1 form for all the buttons?',\n",
       " 'Eclipse GAE JDO 3.0',\n",
       " 'django-cms editors and HTML data attribute cleaned up',\n",
       " 'Xcode build error clang failed',\n",
       " 'setTimeout from a web worker',\n",
       " 'C# Populating a listview from a List',\n",
       " 'Javascript not working in django inline formset using urlify.js',\n",
       " 'PHP multi cURL performance worse than sequential file_get_contents',\n",
       " 'Converting PHP Contact Form to SMTP',\n",
       " 'How do I prevent the original method being called when mocking a class with PHPUnit?',\n",
       " 'Ensure footer will stick to bottom of page and flex with content',\n",
       " 'How to share files from any path using a FileProvider?',\n",
       " 'R: How to build sum of arrays third dimension containing NAs and returning a list?',\n",
       " 'Speeding up a strangely slow Rcpp function',\n",
       " 'How to create a service that sends/receives UDP broadcasts on multiple interfaces',\n",
       " 'Can someone tell me how to replace the following javascript code with a loop?',\n",
       " 'UIImageView layer border issue',\n",
       " 'COM object created by CComObject::CreateInstance not destroyed when pointer goes out of scope',\n",
       " 'Run 2 sql query with 1 query for save query result as .csv format',\n",
       " 'AWS Elastic Beanstalk Vs EC2 Container Service (ECS) - Docker',\n",
       " 'Connect to remote MongoDB instance from ASP.NET',\n",
       " 'Copying files with unicode names',\n",
       " \"ASP.NET Web application doesn't unload AppDomains after deploy\",\n",
       " 'Getting YouTube livestream URL',\n",
       " \"Can't use ToString() in LINQ to Entities query\",\n",
       " 'list comprehension to create list and for no-data value feed default value',\n",
       " \"JSX element type 'XXX' does not have any construct or call signatures\",\n",
       " 'Subroutine unexpectedly ends when a Workbook is closed',\n",
       " 'Creating a result set (using a select statement ) within a loop',\n",
       " 'Laravel 4.2 - Environment detection - homestead.yaml vs. start.php',\n",
       " 'Deploy a shell script with Ruby gem and install in bin directory',\n",
       " 'Change a string into an int',\n",
       " 'How do I stop a MySQL decimal field from being rounded?',\n",
       " \"Respecting argparse's privacy, vs. usability\",\n",
       " 'Very simple Web Service in Python',\n",
       " 'Emoji and UIWebView in iOS 5',\n",
       " 'Getting IOError: [Errno Invalid number of channels] -9998 when using mic with PyAudio on Raspberry Pi',\n",
       " 'Mono on Mac OS X - Parallel HTTP Downloads limited to 2',\n",
       " 'Delete files, directories and buckets in amazon s3 java',\n",
       " 'Android: Saving form data on a swipe rather than from a button',\n",
       " 'No description or item name on PayPal Payment Received email',\n",
       " 'Code igniter with data mapper giving in valid json',\n",
       " 'Where can I find official / canonical documentation for using JavaScript with \"classic\" ASP?',\n",
       " \"BroadcastReceiver isn't working\",\n",
       " 'Array compare and count which has similar values and which not',\n",
       " \"How to cancel 'viewWillAppear' after UIImagePickerController is dismissed\",\n",
       " 'In Scala, is it possible to write a script which refers to another script',\n",
       " \"after reload page IE is not retaining it's scroll position\",\n",
       " 'SpringBoot multiple authentication adapter',\n",
       " 'SMTP Contact Form blank screen on Submit',\n",
       " 'Destroy all sessions but one',\n",
       " 'C# WIndows CE Compact Framework 2.0 Set System Timezone',\n",
       " 'Appropriate representation of a 2D game board in Clojure',\n",
       " 'Ionic emulate ios shows black screen',\n",
       " 'How update APi with AngularJS?',\n",
       " 'Javascript based redirect: will it hurt SEO?',\n",
       " 'What is the difference between these two SOAP requests?',\n",
       " 'Microsoft Access Report - How to cycle through all pages of a report in print view?',\n",
       " \"What does Actor[akka:\\\\\\\\play\\\\deadLetters].tell() mean in a New Relic's trace of a Play Framework 2.0 web transaction?\",\n",
       " 'JRuby 1.7.0 will not install bundler given plenty of memory',\n",
       " 'solr multiple tokenizers for query',\n",
       " 'Is it possible to pass an EJS variable to an Angular ng-repeat filter?',\n",
       " 'How To Read Data using Ip Address',\n",
       " 'SSIS XML Decryption Message',\n",
       " 'Detecting selection change on a UITextView?',\n",
       " 'Different CSS background-image depending on month and year',\n",
       " \"What's the equivalent averageifs for standard deviation?\",\n",
       " 'Segmentation faults using f2py',\n",
       " 'Eclipse: Most useful refactorings\\n']"
      ]
     },
     "execution_count": 105,
     "metadata": {},
     "output_type": "execute_result"
    }
   ],
   "source": [
    "q, ex = validation_data[0]\n",
    "ex"
   ]
  },
  {
   "cell_type": "code",
   "execution_count": 106,
   "metadata": {},
   "outputs": [
    {
     "data": {
      "text/plain": [
       "[('Sending array via Ajax fails',\n",
       "  ['Getting all list items of an unordered list in PHP\\n'])]"
      ]
     },
     "execution_count": 106,
     "metadata": {},
     "output_type": "execute_result"
    }
   ],
   "source": [
    "[x for x in train_data if x[0] == 'Sending array via Ajax fails'] "
   ]
  },
  {
   "cell_type": "markdown",
   "metadata": {
    "id": "ySQQp0oQt1Ep"
   },
   "source": [
    "### Ранжирование без обучения"
   ]
  },
  {
   "cell_type": "markdown",
   "metadata": {
    "id": "iElEDhj-6j3R"
   },
   "source": [
    "Реализуйте функцию ранжирования кандидатов на основе косинусного расстояния. Функция должна по списку кандидатов вернуть отсортированный список пар (позиция в исходном списке кандидатов, кандидат). При этом позиция кандидата в полученном списке является его рейтингом (первый - лучший). Например, если исходный список кандидатов был [a, b, c], и самый похожий на исходный вопрос среди них - c, затем a, и в конце b, то функция должна вернуть список **[(2, c), (0, a), (1, b)]**."
   ]
  },
  {
   "cell_type": "code",
   "execution_count": 107,
   "metadata": {
    "id": "K02JARKr6j3T"
   },
   "outputs": [],
   "source": [
    "# from copy import deepcopy ?????"
   ]
  },
  {
   "cell_type": "code",
   "execution_count": 108,
   "metadata": {
    "id": "1yP8wJWj6j3X"
   },
   "outputs": [],
   "source": [
    "def rank_candidates(question, candidates, embeddings, tokenizer, dim=200):\n",
    "    \"\"\"\n",
    "        question: строка\n",
    "        candidates: массив строк(кандидатов) [a, b, c]\n",
    "        result: пары (начальная позиция, кандидат) [(2, c), (0, a), (1, b)]\n",
    "    \"\"\"\n",
    "    question_vec = question_to_vec(question, embeddings, tokenizer, dim)\n",
    "    candidates_vecs = [(index, question_to_vec(x, embeddings, tokenizer, dim)) for (index, x) in enumerate(candidates)]\n",
    "    return sorted(enumerate(candidates), key=lambda x: -cosine_similarity([candidates_vecs[x[0]][1]], [question_vec])[0])"
   ]
  },
  {
   "cell_type": "markdown",
   "metadata": {
    "id": "TnBszTb76j3c"
   },
   "source": [
    "Протестируйте работу функции на примерах ниже. Пусть $N=2$, то есть два эксперимента"
   ]
  },
  {
   "cell_type": "code",
   "execution_count": 109,
   "metadata": {
    "id": "xvQgtP176j3h"
   },
   "outputs": [],
   "source": [
    "questions = ['converting string to list', 'Sending array via Ajax fails'] \n",
    "\n",
    "candidates = [['Convert Google results object (pure js) to Python object', # первый эксперимент\n",
    "               'C# create cookie from string and send it',\n",
    "               'How to use jQuery AJAX for an outside domain?'],\n",
    "              \n",
    "              ['Getting all list items of an unordered list in PHP',      # второй эксперимент\n",
    "               'WPF- How to update the changes in list item of a list',\n",
    "               'select2 not displaying search results']]"
   ]
  },
  {
   "cell_type": "code",
   "execution_count": 110,
   "metadata": {
    "id": "bPj1JGFi6j3m",
    "scrolled": true
   },
   "outputs": [
    {
     "name": "stdout",
     "output_type": "stream",
     "text": [
      "[(1, 'C# create cookie from string and send it'), (0, 'Convert Google results object (pure js) to Python object'), (2, 'How to use jQuery AJAX for an outside domain?')]\n",
      "[(1, 'WPF- How to update the changes in list item of a list'), (0, 'Getting all list items of an unordered list in PHP'), (2, 'select2 not displaying search results')]\n"
     ]
    }
   ],
   "source": [
    "for question, q_candidates in zip(questions, candidates):\n",
    "        ranks = rank_candidates(question, q_candidates, wv_embeddings, tokenizer)\n",
    "        print(ranks)"
   ]
  },
  {
   "cell_type": "markdown",
   "metadata": {
    "id": "jm4cidj56j3q"
   },
   "source": [
    "Для первого экперимента вы можете полностью сравнить ваши ответы и правильные ответы. Но для второго эксперимента два ответа на кандидаты будут <b>скрыты</b>(*)"
   ]
  },
  {
   "cell_type": "code",
   "execution_count": 111,
   "metadata": {
    "id": "0LeKMIsn6j3s"
   },
   "outputs": [],
   "source": [
    "# должно вывести\n",
    "#  results = [[(1, 'C# create cookie from string and send it'),\n",
    "#             (0, 'Convert Google results object (pure js) to Python object'),\n",
    "#             (2, 'How to use jQuery AJAX for an outside domain?')],\n",
    "#            [(1, 'WPF- How to update the changes in list item of a list'), #скрыт\n",
    "#             (0, 'Getting all list items of an unordered list in PHP'), #скрыт\n",
    "#             (2, 'select2 not displaying search results') #скрыт\n",
    "#             ]] "
   ]
  },
  {
   "cell_type": "markdown",
   "metadata": {
    "id": "t1ttnIBe6j3x"
   },
   "source": [
    "Последовательность начальных индексов вы должны получить `для эксперимента 1`  1, 0, 2."
   ]
  },
  {
   "cell_type": "markdown",
   "metadata": {
    "id": "5WQgYDWd6j3y"
   },
   "source": [
    "#### Вопрос 5:\n",
    "* Какую последовательность начальных индексов вы получили `для эксперимента 2`(перечисление без запятой и пробелов, например, `102` для первого эксперимента?\n",
    "\n",
    "#### Ответ 5: 102"
   ]
  },
  {
   "cell_type": "markdown",
   "metadata": {
    "id": "fPllOY-Y6j30"
   },
   "source": [
    "Теперь мы можем оценить качество нашего метода. Запустите следующие два блока кода для получения результата. Обратите внимание, что вычисление расстояния между векторами занимает некоторое время (примерно 10 минут). Можете взять для validation 1000 примеров."
   ]
  },
  {
   "cell_type": "code",
   "execution_count": 112,
   "metadata": {
    "id": "nu7K4mis6j32"
   },
   "outputs": [
    {
     "data": {
      "application/vnd.jupyter.widget-view+json": {
       "model_id": "e9029d601a484fb2b8597a70a6964545",
       "version_major": 2,
       "version_minor": 0
      },
      "text/plain": [
       "  0%|          | 0/3760 [00:00<?, ?it/s]"
      ]
     },
     "metadata": {},
     "output_type": "display_data"
    }
   ],
   "source": [
    "wv_ranking = []\n",
    "max_validation_examples = 1000\n",
    "for i, line in enumerate(tqdm(validation_data)):\n",
    "    if i == max_validation_examples:\n",
    "        break\n",
    "    q, ex = line\n",
    "    ranks = rank_candidates(q, ex, wv_embeddings, tokenizer)\n",
    "    wv_ranking.append([r[0] for r in ranks].index(0) + 1)"
   ]
  },
  {
   "cell_type": "code",
   "execution_count": 113,
   "metadata": {
    "id": "gDtS520v6j35",
    "scrolled": true
   },
   "outputs": [
    {
     "data": {
      "application/vnd.jupyter.widget-view+json": {
       "model_id": "acc10e926c6a43dfafab40ce59128aef",
       "version_major": 2,
       "version_minor": 0
      },
      "text/plain": [
       "  0%|          | 0/6 [00:00<?, ?it/s]"
      ]
     },
     "metadata": {},
     "output_type": "display_data"
    },
    {
     "name": "stdout",
     "output_type": "stream",
     "text": [
      "DCG@   1: 0.276 | Hits@   1: 0.276\n",
      "DCG@   5: 0.332 | Hits@   5: 0.386\n",
      "DCG@  10: 0.349 | Hits@  10: 0.438\n",
      "DCG@ 100: 0.395 | Hits@ 100: 0.671\n",
      "DCG@ 500: 0.421 | Hits@ 500: 0.875\n",
      "DCG@1000: 0.434 | Hits@1000: 1.000\n"
     ]
    }
   ],
   "source": [
    "for k in tqdm([1, 5, 10, 100, 500, 1000]):\n",
    "    print(\"DCG@%4d: %.3f | Hits@%4d: %.3f\" % (k, dcg_score(wv_ranking, k), k, hits_count(wv_ranking, k)))"
   ]
  },
  {
   "cell_type": "markdown",
   "metadata": {
    "id": "LL6_Rjg3InL8"
   },
   "source": [
    "### Эмбеддинги, обученные на корпусе похожих вопросов"
   ]
  },
  {
   "cell_type": "code",
   "execution_count": 114,
   "metadata": {
    "id": "iNvbpR5gJIPz"
   },
   "outputs": [],
   "source": [
    "train_data = read_corpus('./data/train.tsv')"
   ]
  },
  {
   "cell_type": "markdown",
   "metadata": {
    "id": "Nr281ZyEJfjT"
   },
   "source": [
    "Улучшите качество модели.<br>Склеим вопросы в пары и обучим на них модель Word2Vec из gensim. Выберите размер window. Объясните свой выбор."
   ]
  },
  {
   "cell_type": "code",
   "execution_count": 117,
   "metadata": {},
   "outputs": [],
   "source": [
    "class NoStopsPuncTokenizer:\n",
    "    def __init__(self, lang = 'english'):\n",
    "        self.tokenizer = WordPunctTokenizer()\n",
    "        self.lang = lang\n",
    "        self.stops = set(stopwords.words(self.lang))\n",
    "        \n",
    "    def tokenize(self, text):\n",
    "        return [x for x in self.tokenizer.tokenize(text) if x not in self.stops]\n",
    "\n",
    "stops_filter_tokenizer_punct = NoStopsPuncTokenizer()"
   ]
  },
  {
   "cell_type": "code",
   "execution_count": 120,
   "metadata": {},
   "outputs": [],
   "source": [
    "class NoStopsPuncStemmaTokenizer:\n",
    "    def __init__(self, lang = 'english'):\n",
    "        self.tokenizer = WordPunctTokenizer()\n",
    "        self.lang = lang\n",
    "        self.ps = PorterStemmer()\n",
    "        self.stops = set(stopwords.words(self.lang))\n",
    "        \n",
    "    def tokenize(self, text):\n",
    "        return [self.ps.stem(x) for x in self.tokenizer.tokenize(text) if x not in self.stops]\n",
    "\n",
    "no_stops_stemma_tonekizer = NoStopsPuncStemmaTokenizer()"
   ]
  },
  {
   "cell_type": "code",
   "execution_count": 134,
   "metadata": {},
   "outputs": [],
   "source": [
    "class NoStopsNoPuncTokenizer:\n",
    "    def __init__(self, lang = 'english'):\n",
    "        self.tokenizer = WordPunctTokenizer()\n",
    "        self.lang = lang\n",
    "        self.stops = set(stopwords.words(self.lang))\n",
    "        \n",
    "    def tokenize(self, text):\n",
    "        return [x for x in self.tokenizer.tokenize(text) if x not in self.stops and x not in string.punctuation]\n",
    "\n",
    "stops_filter_tokenizer_no_punct = NoStopsNoPuncTokenizer()"
   ]
  },
  {
   "cell_type": "code",
   "execution_count": 121,
   "metadata": {
    "id": "f6Y46SSQMTL0"
   },
   "outputs": [],
   "source": [
    "window = 10 # В окно 10 в большинстве случаев будут попадать слова как из началаьного вопроса, так и из похожего."
   ]
  },
  {
   "cell_type": "code",
   "execution_count": 122,
   "metadata": {},
   "outputs": [],
   "source": [
    "sentences = [x[0] + ' ' +  x[1][0] for x in train_data]"
   ]
  },
  {
   "cell_type": "code",
   "execution_count": 139,
   "metadata": {},
   "outputs": [
    {
     "data": {
      "application/vnd.jupyter.widget-view+json": {
       "model_id": "1777bf73e1b44138924987fa88b5eda3",
       "version_major": 2,
       "version_minor": 0
      },
      "text/plain": [
       "  0%|          | 0/1000000 [00:00<?, ?it/s]"
      ]
     },
     "metadata": {},
     "output_type": "display_data"
    },
    {
     "name": "stdout",
     "output_type": "stream",
     "text": [
      "14884932\n"
     ]
    }
   ],
   "source": [
    "words = [no_stops_stemma_tonekizer.tokenize(x) for x in tqdm(sentences)]\n",
    "words_len = 0\n",
    "for x in words:\n",
    "    words_len+= len(x)\n",
    "print(words_len)"
   ]
  },
  {
   "cell_type": "code",
   "execution_count": 124,
   "metadata": {},
   "outputs": [
    {
     "data": {
      "application/vnd.jupyter.widget-view+json": {
       "model_id": "5c9107e8c1dd48c9b80255634ba2bc7b",
       "version_major": 2,
       "version_minor": 0
      },
      "text/plain": [
       "  0%|          | 0/1000000 [00:00<?, ?it/s]"
      ]
     },
     "metadata": {},
     "output_type": "display_data"
    },
    {
     "name": "stdout",
     "output_type": "stream",
     "text": [
      "14884932\n"
     ]
    }
   ],
   "source": [
    "no_stops_words_punct = [stops_filter_tokenizer_punct.tokenize(x) for x in tqdm(sentences)]\n",
    "no_stops_words_len = 0\n",
    "for x in no_stops_words_punct:\n",
    "    no_stops_words_len+= len(x)\n",
    "print(no_stops_words_len)"
   ]
  },
  {
   "cell_type": "code",
   "execution_count": 135,
   "metadata": {},
   "outputs": [
    {
     "data": {
      "application/vnd.jupyter.widget-view+json": {
       "model_id": "6e8c2093834848f99560ac402788b6e1",
       "version_major": 2,
       "version_minor": 0
      },
      "text/plain": [
       "  0%|          | 0/1000000 [00:00<?, ?it/s]"
      ]
     },
     "metadata": {},
     "output_type": "display_data"
    },
    {
     "name": "stdout",
     "output_type": "stream",
     "text": [
      "12675976\n"
     ]
    }
   ],
   "source": [
    "no_stops_no_punct_words = [stops_filter_tokenizer_no_punct.tokenize(x) for x in tqdm(sentences)]\n",
    "l2 = 0\n",
    "for x in no_stops_no_punct_words:\n",
    "    l2 += len(x)\n",
    "print(l2)"
   ]
  },
  {
   "cell_type": "code",
   "execution_count": 165,
   "metadata": {
    "id": "QuJzAM0cI-UH"
   },
   "outputs": [],
   "source": [
    "embeddings_trained = Word2Vec(no_stops_words_punct, # data for model to train on\n",
    "                 vector_size=200,                 # embedding vector size\n",
    "                 min_count=5,             # consider words that occured at least 5 times\n",
    "                 window=15).wv\n"
   ]
  },
  {
   "cell_type": "code",
   "execution_count": 166,
   "metadata": {},
   "outputs": [
    {
     "data": {
      "text/plain": [
       "(array([[0.8433889]], dtype=float32), array([[0.889202]], dtype=float32))"
      ]
     },
     "execution_count": 166,
     "metadata": {},
     "output_type": "execute_result"
    }
   ],
   "source": [
    "govno2 = (embeddings_trained['list'] + embeddings_trained['array'])/2\n",
    "cosine_similarity([govno2], [embeddings_trained['list']]), cosine_similarity([govno2], [embeddings_trained['array']]) \n"
   ]
  },
  {
   "cell_type": "code",
   "execution_count": 170,
   "metadata": {},
   "outputs": [
    {
     "name": "stdout",
     "output_type": "stream",
     "text": [
      "Позиция array 4\n"
     ]
    }
   ],
   "source": [
    "top200 = get_most_similar_words_gensim(embeddings_trained, 'list', 300000)\n",
    "s_pos_top200 = [index for (index, x) in enumerate(top200) if x[0] == 'array']\n",
    "if s_pos_top200:\n",
    "    print(f'Позиция array {s_pos_top200[0]}')"
   ]
  },
  {
   "cell_type": "code",
   "execution_count": 171,
   "metadata": {},
   "outputs": [
    {
     "data": {
      "text/plain": [
       "[('List', 0.6848503351211548),\n",
       " ('lists', 0.6496286392211914),\n",
       " ('sublist', 0.6007610559463501),\n",
       " ('tuple', 0.5218208432197571),\n",
       " ('array', 0.5041189193725586)]"
      ]
     },
     "execution_count": 171,
     "metadata": {},
     "output_type": "execute_result"
    }
   ],
   "source": [
    "get_most_similar_words_gensim(embeddings_trained, 'list', 5)"
   ]
  },
  {
   "cell_type": "code",
   "execution_count": 168,
   "metadata": {
    "scrolled": true
   },
   "outputs": [
    {
     "name": "stdout",
     "output_type": "stream",
     "text": [
      "Num of words: 49363\n"
     ]
    }
   ],
   "source": [
    "print(f\"Num of words: {len(embeddings_trained.index_to_key)}\")"
   ]
  },
  {
   "cell_type": "code",
   "execution_count": 169,
   "metadata": {
    "id": "OQonbm4nMenD"
   },
   "outputs": [
    {
     "data": {
      "application/vnd.jupyter.widget-view+json": {
       "model_id": "08ea199df65641b4a7b4c7e0ea0dd24b",
       "version_major": 2,
       "version_minor": 0
      },
      "text/plain": [
       "  0%|          | 0/3760 [00:00<?, ?it/s]"
      ]
     },
     "metadata": {},
     "output_type": "display_data"
    },
    {
     "data": {
      "application/vnd.jupyter.widget-view+json": {
       "model_id": "90443a7105104af1835e3d5dbe281c89",
       "version_major": 2,
       "version_minor": 0
      },
      "text/plain": [
       "  0%|          | 0/6 [00:00<?, ?it/s]"
      ]
     },
     "metadata": {},
     "output_type": "display_data"
    },
    {
     "name": "stdout",
     "output_type": "stream",
     "text": [
      "DCG@   1: 0.320 | Hits@   1: 0.320\n",
      "DCG@   5: 0.407 | Hits@   5: 0.484\n",
      "DCG@  10: 0.436 | Hits@  10: 0.573\n",
      "DCG@ 100: 0.487 | Hits@ 100: 0.821\n",
      "DCG@ 500: 0.505 | Hits@ 500: 0.961\n",
      "DCG@1000: 0.509 | Hits@1000: 1.000\n"
     ]
    }
   ],
   "source": [
    "wv_ranking = []\n",
    "max_validation_examples = 2000\n",
    "for i, line in enumerate(tqdm(validation_data)):\n",
    "    if i == max_validation_examples:\n",
    "        break\n",
    "    q, *ex = line\n",
    "    ex = ex[0]\n",
    "    ranks = rank_candidates(q, ex, embeddings_trained, tokenizer)\n",
    "    wv_ranking.append([r[0] for r in ranks].index(0) + 1)\n",
    "    \n",
    "for k in tqdm([1, 5, 10, 100, 500, 1000]):\n",
    "    print(\"DCG@%4d: %.3f | Hits@%4d: %.3f\" % (k, dcg_score(wv_ranking, k), k, hits_count(wv_ranking, k)))"
   ]
  },
  {
   "cell_type": "raw",
   "metadata": {},
   "source": []
  },
  {
   "cell_type": "markdown",
   "metadata": {},
   "source": [
    "Лучший результат: min_count=5, window=15, WordPunctTokenizer с филдьтрацией стоп слов и стеммингом\n",
    "Результаты (K, DCG, HITS): [(1, 0.412, 0.412), (5, 0.5, 0.576), (10, 0.523, 0.649), (100, 0.567, 0.859), (500, 0.582, 0.972), (1000, 0.585, 1.0)]"
   ]
  },
  {
   "cell_type": "markdown",
   "metadata": {
    "id": "tY8PxB0j-ThG"
   },
   "source": [
    "### Замечание:\n",
    "Решить эту задачу с помощью обучения полноценной нейронной сети будет вам предложено, как часть задания в одной из домашних работ по теме \"Диалоговые системы\"."
   ]
  },
  {
   "cell_type": "markdown",
   "metadata": {
    "id": "vymVj8IxO2PO"
   },
   "source": [
    "Напишите свой вывод о полученных результатах.\n",
    "* Какой принцип токенизации даёт качество лучше и почему?\n",
    "* Помогает ли нормализация слов?\n",
    "* Какие эмбеддинги лучше справляются с задачей и почему?\n",
    "* Почему получилось плохое качество решения задачи?\n",
    "* Предложите свой подход к решению задачи.\n",
    "\n",
    "## Вывод:\n",
    "\n",
    "### 1. Токенизация по словам с пунктуацией, с удалением стоп слов. Токенизация больше чем по одну слову на токен не рассматривалась, так как работаем с предложениеми.  С фильтром стоп слов качество лучше, для векторных представлений вопросов они только мешали.\n",
    "\n",
    "### 2. Да, полмог стемминг слов.\n",
    "\n",
    "### 3. Обучать с помощью Word2Vec на вопросах из train лучше, потому что можно сильнее учитывать контекст в построении эмбеддингов. \n",
    "\n",
    "### 4. Проблема в том, как мы составляем эмбедденги предложений. Среднее по эмбеддингам не лучший способ.\n",
    "\n",
    "### 5. Лучше составлять эмбедденги предложений. (Взять от более сложной модели)\n"
   ]
  },
  {
   "cell_type": "markdown",
   "metadata": {
    "id": "emODHztAQUQz"
   },
   "source": []
  },
  {
   "cell_type": "markdown",
   "metadata": {},
   "source": [
    "# Bonus track: Grid Search"
   ]
  },
  {
   "cell_type": "code",
   "execution_count": 55,
   "metadata": {},
   "outputs": [],
   "source": [
    "def tokenize_sentences(sentences, tokenizer):\n",
    "    tokenized_sentences = [tokenizer.tokenize(x) for x in tqdm(sentences)]\n",
    "    l = 0\n",
    "    for x in tokenized_sentences:\n",
    "        l += len(x)\n",
    "    print(f'Всего токенов получилось: {l}')\n",
    "    return tokenized_sentences\n",
    "\n",
    "def train_embeddings(tokenized_sentences, min_count, window):\n",
    "    embeddings_trained = Word2Vec(tokenized_sentences,\n",
    "                                  vector_size=200,\n",
    "                                  min_count=min_count,\n",
    "                                  window=window).wv\n",
    "    return embeddings_trained\n",
    "\n",
    "\n",
    "def get_results(validation_data, embeddings_trained, tokenizer, max_val_examples):\n",
    "    wv_ranking = []\n",
    "    max_validation_examples = max_val_examples\n",
    "    for i, line in enumerate(validation_data):\n",
    "        if i == max_validation_examples:\n",
    "            break\n",
    "        q, *ex = line\n",
    "        ex = ex[0]\n",
    "        ranks = rank_candidates(q, ex, embeddings_trained, tokenizer)\n",
    "        wv_ranking.append([r[0] for r in ranks].index(0) + 1)\n",
    "\n",
    "    results = []\n",
    "    for k in [1, 5, 10, 100, 500, 1000]:\n",
    "        dcg = dcg_score(wv_ranking, k)\n",
    "        hits = hits_count(wv_ranking, k)\n",
    "        results.append((k, round(dcg,3), round(hits, 3)))\n",
    "        print(\"DCG@%4d: %.3f | Hits@%4d: %.3f\" % (k, dcg, k, hits))\n",
    "\n",
    "    return results\n",
    "\n",
    "\n",
    "def word2VecGridSearch(sentences, val_data,  min_counts, windows, tokenizers, max_val_examples):\n",
    "    \"\"\"\n",
    "    :return: the best combination of parameters with results\n",
    "    parameters format ([min_count, window, tokenizer])\n",
    "    results format [[k], [dcg], [hits]]\n",
    "    \"\"\"\n",
    "    results = []\n",
    "    for tokenizer in tokenizers:\n",
    "        tokenized_sentences = tokenize_sentences(sentences, tokenizer)\n",
    "        for min_count in min_counts:\n",
    "            for window in windows:\n",
    "                print()\n",
    "                print(f'mc = {min_count}, w = {window} t = {tokenizer.__class__}')\n",
    "                print('----------------------------------------------------------')\n",
    "                embeddings_trained = train_embeddings(tokenized_sentences, min_count, window)\n",
    "                results.append(((min_count, window, tokenizer.__class__),get_results(val_data, embeddings_trained, tokenizer, max_val_examples)))\n",
    "                print()\n",
    "\n",
    "    best = max(results, key=lambda x: x[1][0][1])\n",
    "    print(f'Лучший: mc = {best[0][0]}, w = {best[0][1]}, tokeizer={best[0][2]}')\n",
    "    print(f'Результаты: {best[1]}')\n",
    "\n",
    "    return results"
   ]
  },
  {
   "cell_type": "code",
   "execution_count": null,
   "metadata": {},
   "outputs": [],
   "source": [
    "grid_search_result = word2VecGridSearch(sentences, \n",
    "                   validation_data, \n",
    "                   [5, 10], \n",
    "                   [5, 10, 15], \n",
    "                   [stops_filter_tokenizer_punct, no_stops_stemma_tonekizer], \n",
    "                   2000)"
   ]
  },
  {
   "cell_type": "raw",
   "metadata": {},
   "source": [
    "Лучший: mc = 5, w = 15, tokeizer=<class '__main__.NoStopsPuncStemmaTokenizer'>\n",
    "Результаты: [(1, 0.412, 0.412), (5, 0.5, 0.576), (10, 0.523, 0.649), (100, 0.567, 0.859), (500, 0.582, 0.972), (1000, 0.585, 1.0)]"
   ]
  }
 ],
 "metadata": {
  "colab": {
   "collapsed_sections": [
    "BIWqBuEa6j0b",
    "uS9FwWNd5a3S",
    "MQk_rolFwT_h",
    "ai48-5vv6j1d",
    "Y60z4t6W6j16",
    "0sUSxk866j1_",
    "J5xWOORI6j2F",
    "tHZqgDTo6j0i",
    "ySQQp0oQt1Ep",
    "LL6_Rjg3InL8"
   ],
   "provenance": []
  },
  "kernelspec": {
   "display_name": "Python 3 (ipykernel)",
   "language": "python",
   "name": "python3"
  },
  "language_info": {
   "codemirror_mode": {
    "name": "ipython",
    "version": 3
   },
   "file_extension": ".py",
   "mimetype": "text/x-python",
   "name": "python",
   "nbconvert_exporter": "python",
   "pygments_lexer": "ipython3",
   "version": "3.8.0"
  }
 },
 "nbformat": 4,
 "nbformat_minor": 1
}
